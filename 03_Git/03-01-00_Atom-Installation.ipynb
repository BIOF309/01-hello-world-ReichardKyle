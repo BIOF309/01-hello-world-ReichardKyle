{
 "cells": [
  {
   "cell_type": "markdown",
   "metadata": {},
   "source": [
    "# Installing Python\n",
    "---"
   ]
  },
  {
   "cell_type": "markdown",
   "metadata": {},
   "source": [
    "[`Python`](http://python.org/) is a popular language for research computing, and great for general-purpose programming as well. Installing all of its research packages individually can be a bit difficult, so we recommend [Anaconda](https://www.continuum.io/anaconda), an all-in-one installer."
   ]
  },
  {
   "cell_type": "markdown",
   "metadata": {},
   "source": [
    "Regardless of how you choose to install it, please make sure you install **Python version 3.x** (e.g., 3.6 is fine).\n",
    "\n",
    "We will teach Python using the [Jupyter Notebook](http://jupyter.org/), a programming environment that runs in a web browser. For this to work you will need a reasonably up-to-date browser. The current versions of the Chrome, Safari and Firefox browsers are all supported (some older browsers, including Internet Explorer version 9 and below, are not).\n",
    "\n",
    "---"
   ]
  },
  {
   "cell_type": "markdown",
   "metadata": {},
   "source": [
    "### Windows\n",
    "\n",
    "[Video tutorial](https://www.youtube.com/watch?v=xxQ0mzZ8UvA)\n",
    "\n",
    "1. Open http://continuum.io/downloads with your web browser.\n",
    "1. Download the `Python 3` installer for Windows.\n",
    "1. Install `Python 3` using all of the defaults for installation except make sure to check **Make Anaconda the default Python**.\n",
    "\n",
    "---"
   ]
  },
  {
   "cell_type": "markdown",
   "metadata": {},
   "source": [
    "### Mac OSX\n",
    "\n",
    "[Video tutorial](https://www.youtube.com/watch?v=TcSAln46u9U)\n",
    "\n",
    "1. Open http://continuum.io/downloads with your web browser.\n",
    "1. Download the `Python 3` installer for OS X.\n",
    "1. Install `Python 3` using all of the defaults for installation.\n",
    "\n",
    "---"
   ]
  },
  {
   "cell_type": "markdown",
   "metadata": {},
   "source": [
    "### Linux\n",
    "\n",
    "1. Open http://continuum.io/downloads with your web browser.\n",
    "1. Download the `Python 3` installer for Linux.\n",
    "1. Install `Python 3` using all of the defaults for installation. (Installation requires using the shell. If you aren't comfortable doing the installation yourself stop here and request help at the workshop.)\n",
    "1. Open a terminal window.\n",
    "1. Type:\n",
    "~~~\n",
    "bash Anaconda3-\n",
    "~~~\n",
    "and then press tab. The name of the file you just downloaded should appear.\n",
    "\n",
    "1. Press enter. You will follow the text-only prompts. When there is a colon at the bottom of the screen press the down arrow to move down through the text. Type yes and press enter to approve the license. Press enter to approve the default location for the files. Type yes and press enter to prepend Anaconda to your PATH (this makes the Anaconda distribution the default `Python`).\n",
    "\n",
    "---"
   ]
  },
  {
   "cell_type": "markdown",
   "metadata": {},
   "source": [
<<<<<<< HEAD
    "This installation tutorial is taken from [Software Carpentry](http://swcarpentry.github.io/workshop-template/#setup)."
=======
    "This installation tutorial is taken from [Software Carpentry](http://swcarpentry.github.io/workshop-template/#setup)"
>>>>>>> dd6e74eea865a62935d1da4d0dd7f242cd99846d
   ]
  },
  {
   "cell_type": "markdown",
   "metadata": {},
   "source": [
    "## Anaconda install in-depth"
   ]
  },
  {
   "cell_type": "markdown",
   "metadata": {},
   "source": [
    "## Step 1: Install Anaconda \n",
    "\n",
    "To install Anaconda, follow these [instructions][instruc]\n",
    "You have two options:\n",
    "\n",
    "1. Graphical Install (for Windows or Mac);\n",
    "\n",
    "2. Command Line Install (for Mac or Linux)\n",
    "\n",
    "If you have not used the command line before, you should pick the Graphical Install option.\n",
    "\n",
    "Make sure to pick the appropriate install option for your system (32 vs. 64-bit and Windows, Mac or Linux). \n",
    "\n",
    "If you use the Graphical Install option, you should keep defaults (add Anaconda to path and use Anaconda as default python).\n",
    "\n",
    "You will not need Anaconda Cloud for anything at this point.\n"
   ]
  },
  {
   "cell_type": "markdown",
   "metadata": {},
   "source": [
<<<<<<< HEAD
    "## Miniconda installation (as a backup, not needed if you have Anaconda)"
=======
    "# Optional steps (skip for now)"
>>>>>>> dd6e74eea865a62935d1da4d0dd7f242cd99846d
   ]
  },
  {
   "cell_type": "markdown",
   "metadata": {},
   "source": [
<<<<<<< HEAD
    "# Miniconda Setup Instructions\n",
    "\n",
    "## Install Miniconda \n",
    "\n",
    "To install Miniconda, follow these [instructions][instruc] \n",
    "\n",
    "Make sure to download the Python 3.6 version from the [installation page][install]\n",
    "\n",
    "You are now ready to get started!\n",
    "\n",
    "[instruc]: https://conda.io/docs/install/quick.html\n",
    "[install]: https://conda.io/miniconda.html\n"
   ]
  },
  {
   "cell_type": "markdown",
   "metadata": {},
   "source": [
    "# Install Atom text editor"
   ]
  },
  {
   "cell_type": "markdown",
   "metadata": {},
   "source": [
    "Follow the instructions in the [Atom Flight Manual](https://flight-manual.atom.io/getting-started/sections/installing-atom/)."
   ]
  },
  {
   "cell_type": "markdown",
   "metadata": {},
   "source": [
    "## Option 1: Create a new environment using conda"
=======
    "\n",
    "## Step 2: Create a new Environment in Anaconda Navigator\n",
    "\n",
    "- After installing Anaconda, open Anaconda Navigator \n",
    "- Create a new Environment in the Environment tab\n",
    "- Click the Environments tab\n",
    "- Create new Environment and pick a name (e.g. biof309)\n",
    "\n",
    "## Step 3: Install necessary packages\n",
    "\n",
    "- To enable UNIX commands on Windows, install m2-base\n",
    "- To enable Git commands, install m2-git\n",
    "- To enable SQL commands, install sqlite\n",
    "- To enable R commands, install r-essentials and rpy2 \n",
    "\n",
    "## Step 4: Run an Application in the Environment you just created\n",
    "\n",
    "Return to Applications tab, pick the Environment you just created (e.g. biof309)\n",
    "\n",
    "Now you have three main options:\n",
    "1. Install Jupyter QtConsole (for the command line use of git, sql, R and python) or \n",
    "2. Open Jupyter Notebook (if your instructor provides you with a ipynb file) or \n",
    "3. Install Rstudio (useful for R lessons only, ask your instructor)\n",
    "\n",
    "You are now ready for every Software and Data Carpentry lesson!\n",
    "[instruc]: https://docs.continuum.io/anaconda/install"
>>>>>>> dd6e74eea865a62935d1da4d0dd7f242cd99846d
   ]
  },
  {
   "cell_type": "markdown",
   "metadata": {},
   "source": [
<<<<<<< HEAD
    "## Conda Basics"
=======
    "## Miniconda installation (as a backup)"
>>>>>>> dd6e74eea865a62935d1da4d0dd7f242cd99846d
   ]
  },
  {
   "cell_type": "markdown",
   "metadata": {},
   "source": [
<<<<<<< HEAD
    "Conda is the package and environment manager that comes with the [Anaconda distribution of Python](https://www.anaconda.com/download/).\n",
    "\n",
    "Here we will learn how to use conda to create an environment that is separate from our main installation in which we can tightly control the version of each package that we install. \n",
    "\n",
    "There are many advantages to this including being able to\n",
    "1. recreate the environment on different computer (e.g. one that belongs to a collaborator), \n",
    "2. set up a specific environment that contains only what is needed for a given project,\n",
    "2. recover quickly and easily if anything breaks, and \n",
    "3. maintain a list of every version of every piece of software we used (e.g. to provide to reviewers of any articles we try to publish).\n",
    "\n",
    "By the way, there is a great [cheatsheet for conda](https://conda.io/docs/_downloads/conda-cheatsheet.pdf) that I highly recommend.\n",
    "\n",
    "Creating an environment and a GitHub repository are two fundamental steps to starting any project the right (i.e. reproducible) way and this approach is likely to save you plenty of frustration, pain and suffering in the future."
   ]
  },
  {
   "cell_type": "markdown",
   "metadata": {},
   "source": [
    "## Starting notes"
   ]
  },
  {
   "cell_type": "markdown",
   "metadata": {},
   "source": [
    "The following conda commands **must** be run from the terminal (Mac/Linux) or anaconda prompt (Windows)!!!\n",
    "\n",
    "Just like with `!cd`, any changes you make with `!conda` will not persist!"
   ]
  },
  {
   "cell_type": "markdown",
   "metadata": {},
   "source": [
    "## Create an environment from an environment file"
=======
    "---\n",
    "layout: page\n",
    "title: Miniconda Setup\n",
    "permalink: /setup/\n",
    "---\n",
    "\n",
    "# Miniconda Setup Instructions\n",
    "\n",
    "## Step 1: Install Miniconda \n",
    "\n",
    "To install Miniconda, follow these [instructions][instruc] \n",
    "\n",
    "Make sure to download the Python 3.6 version from the [installation page][install]\n",
    "\n",
    "You are now ready to get started!\n",
    "\n",
    "[instruc]: https://conda.io/docs/install/quick.html\n",
    "[install]: https://conda.io/miniconda.html\n"
>>>>>>> dd6e74eea865a62935d1da4d0dd7f242cd99846d
   ]
  },
  {
   "cell_type": "markdown",
   "metadata": {},
   "source": [
<<<<<<< HEAD
    "First try to create an environment from a `.yml` file using the `conda env create` command as below."
=======
    "## Miniconda optional steps (skip for now)"
>>>>>>> dd6e74eea865a62935d1da4d0dd7f242cd99846d
   ]
  },
  {
   "cell_type": "markdown",
   "metadata": {},
   "source": [
<<<<<<< HEAD
    "Note: You should first navigate to the location of your file."
   ]
  },
  {
   "cell_type": "markdown",
   "metadata": {
    "inputHidden": false,
    "outputHidden": false
   },
   "source": [
    "`conda env create --file biof309_env.yml`"
   ]
  },
  {
   "cell_type": "markdown",
   "metadata": {},
   "source": [
    "OR"
   ]
  },
  {
   "cell_type": "markdown",
   "metadata": {},
   "source": [
    "`conda env create -f biof309_env.yml`"
   ]
  },
  {
   "cell_type": "markdown",
   "metadata": {},
   "source": [
    "Note: You may call your `.yml` files whatever you want, but the `.yml` file above is called `biof309_env.yml`."
   ]
  },
  {
   "cell_type": "markdown",
   "metadata": {},
   "source": [
    "## Activate the newly created environment"
   ]
  },
  {
   "cell_type": "markdown",
   "metadata": {},
   "source": [
    "To start your new environment, type "
   ]
  },
  {
   "cell_type": "markdown",
   "metadata": {},
   "source": [
    "`source activate biof309`"
   ]
  },
  {
   "cell_type": "markdown",
   "metadata": {},
   "source": [
    "into your terminal (Mac/Linux)"
   ]
  },
  {
   "cell_type": "markdown",
   "metadata": {},
   "source": [
    "OR"
   ]
  },
  {
   "cell_type": "markdown",
   "metadata": {},
   "source": [
    "`activate biof309` "
   ]
  },
  {
   "cell_type": "markdown",
   "metadata": {},
   "source": [
    "into anaconda prompt (Windows)."
   ]
  },
  {
   "cell_type": "markdown",
   "metadata": {},
   "source": [
    "If that works, you are all set!"
   ]
  },
  {
   "cell_type": "markdown",
   "metadata": {},
   "source": [
    "To later deactivate the environment, type "
   ]
  },
  {
   "cell_type": "markdown",
   "metadata": {},
   "source": [
    "`source deactivate biof309`"
   ]
  },
  {
   "cell_type": "markdown",
   "metadata": {},
   "source": [
    "into your terminal (Mac/Linux)"
   ]
  },
  {
   "cell_type": "markdown",
   "metadata": {},
   "source": [
    "OR"
   ]
  },
  {
   "cell_type": "markdown",
   "metadata": {},
   "source": [
    "`deactivate biof309`"
   ]
  },
  {
   "cell_type": "markdown",
   "metadata": {},
   "source": [
    "into anaconda prompt (Windows)."
   ]
  },
  {
   "cell_type": "markdown",
   "metadata": {},
   "source": [
    "## Export a new environment file"
   ]
  },
  {
   "cell_type": "markdown",
   "metadata": {},
   "source": [
    "To save a **NEW** environment file, run the `conda env export` command and provide a **NEW** filename."
=======
    "## Step 2: Setup an environment\n",
    "Open up Anaconda prompt and type in or copy the command below"
   ]
  },
  {
   "cell_type": "code",
   "execution_count": null,
   "metadata": {
    "collapsed": false,
    "inputHidden": false,
    "outputHidden": false
   },
   "outputs": [],
   "source": [
    "!conda create -n biof309 python=3.6 jupyter"
>>>>>>> dd6e74eea865a62935d1da4d0dd7f242cd99846d
   ]
  },
  {
   "cell_type": "markdown",
   "metadata": {},
   "source": [
<<<<<<< HEAD
    "`conda env export --name my_env > my_env.yml`"
   ]
  },
  {
   "cell_type": "markdown",
   "metadata": {},
   "source": [
    "Note: If you environment is activated you can skip the name option and argument."
   ]
  },
  {
   "cell_type": "markdown",
   "metadata": {},
   "source": [
    "If you want to **update** your environment file, instead of creating a new file as above, run the `conda env export` command in the directory where your environment file is located and use the **same** filename. The original environment file WILL BE OVERWRITTEN!"
   ]
  },
  {
   "cell_type": "markdown",
   "metadata": {},
   "source": [
    "`conda env export --name biof309 > biof309_env.yml`"
   ]
  },
  {
   "cell_type": "markdown",
   "metadata": {},
   "source": [
    "OR"
   ]
  },
  {
   "cell_type": "markdown",
   "metadata": {},
   "source": [
    "`conda env export --n biof309 > biof309_env.yml`"
   ]
  },
  {
   "cell_type": "markdown",
   "metadata": {},
   "source": [
    "Note: If you environment is activated you can skip the name option and argument."
   ]
  },
  {
   "cell_type": "markdown",
   "metadata": {},
   "source": [
    "## Update your environment based on an environment file"
   ]
  },
  {
   "cell_type": "markdown",
   "metadata": {},
   "source": [
    "Let's say you made some changes to your environment file (e.g. using Atom) and want to apply those changes to your environment."
   ]
  },
  {
   "cell_type": "markdown",
   "metadata": {},
   "source": [
    "To update your environment from an environment file, use the `conda env update` command as below."
   ]
  },
  {
   "cell_type": "markdown",
   "metadata": {},
   "source": [
    "`conda env update --name=biof309 --file=biof309_env.yml`"
   ]
  },
  {
   "cell_type": "markdown",
   "metadata": {},
   "source": [
    "Note: The equal signs are optional!"
   ]
  },
  {
   "cell_type": "markdown",
   "metadata": {},
   "source": [
    "## More conda commands"
   ]
  },
  {
   "cell_type": "markdown",
   "metadata": {},
   "source": [
    "If you want to create and modify your own environment from scratch, you can use the commands below."
   ]
  },
  {
   "cell_type": "markdown",
   "metadata": {},
   "source": [
    "`conda create --yes --name my_env python=3.6.2` #create a new env with a specific version of python"
   ]
  },
  {
   "cell_type": "markdown",
   "metadata": {},
   "source": [
    "Note: `conda create`, not `conda env create`."
   ]
  },
  {
   "cell_type": "markdown",
   "metadata": {},
   "source": [
    "`conda env list` #confirm environment was created"
   ]
  },
  {
   "cell_type": "markdown",
   "metadata": {},
   "source": [
    "Now activate your environment as described above!"
   ]
  },
  {
   "cell_type": "markdown",
   "metadata": {},
   "source": [
    "`conda install ipython jupyter notebook pandas numpy scipy matplotlib pandas seaborn bokeh scikit-learn altair biopython`"
   ]
  },
  {
   "cell_type": "markdown",
   "metadata": {},
   "source": [
    "Note: You can specify the versions of each package as with the `conda create` command above."
   ]
  },
  {
   "cell_type": "markdown",
   "metadata": {},
   "source": [
    "`conda list` #confirm all packages installed correctly"
   ]
  },
  {
   "cell_type": "markdown",
   "metadata": {},
   "source": [
    "conda list > conda_list.txt #save a nice list of packages\n"
   ]
  },
  {
   "cell_type": "markdown",
   "metadata": {},
   "source": [
    "`conda list --explicit > conda_list_explicit.txt` #save a detailed list of packages"
   ]
  },
  {
   "cell_type": "markdown",
   "metadata": {},
   "source": [
    "## Option 2: Create a new Environment in Anaconda Navigator"
   ]
  },
  {
   "cell_type": "markdown",
   "metadata": {},
   "source": [
    "- After installing Anaconda, open Anaconda Navigator \n",
    "- Create a new Environment in the Environment tab\n",
    "- Click the Environments tab\n",
    "- Create new Environment and pick a name (e.g. biof309)"
   ]
  },
  {
   "cell_type": "markdown",
   "metadata": {},
   "source": [
    "## Install necessary packages into the new environment"
   ]
  },
  {
   "cell_type": "markdown",
   "metadata": {},
   "source": [
    "- To enable UNIX commands on Windows, install m2-base\n",
    "- To enable Git commands, install m2-git\n",
    "- To enable SQL commands, install sqlite\n",
    "- To enable R commands, install r-essentials and rpy2 "
   ]
  },
  {
   "cell_type": "markdown",
   "metadata": {},
   "source": [
    "## Run an Application in the Environment you just created"
=======
    "## Step 3: Open the environment you created\n",
    "If you use Windows, type !activate swc below\n",
    "If you use Linux or OS X, type !source activate swc below"
   ]
  },
  {
   "cell_type": "code",
   "execution_count": null,
   "metadata": {
    "collapsed": false,
    "inputHidden": false,
    "outputHidden": false
   },
   "outputs": [],
   "source": [
    "!activate biof309"
>>>>>>> dd6e74eea865a62935d1da4d0dd7f242cd99846d
   ]
  },
  {
   "cell_type": "markdown",
   "metadata": {},
<<<<<<< HEAD
   "source": [
    "Return to Applications tab, pick the Environment you just created (e.g. biof309)\n",
    "\n",
    "Now you can launch three main options:\n",
    "1. Launch Jupyter Notebook (the recommended option for Python and R programming) or\n",
    "2. Launch Jupyter QtConsole (to get all of iPython in a GUI that feels like a shell terminal) or \n",
    "3. Launch Rstudio (really useful for R programming, but not for Python programming!)\n",
    "\n",
    "You are now ready for anything!\n",
    "[instruc]: https://docs.continuum.io/anaconda/install"
   ]
  }
 ],
 "metadata": {
=======
   "source": []
  }
 ],
 "metadata": {
  "anaconda-cloud": {},
>>>>>>> dd6e74eea865a62935d1da4d0dd7f242cd99846d
  "kernel_info": {
   "name": "python3"
  },
  "kernelspec": {
<<<<<<< HEAD
   "display_name": "Python 3",
=======
   "display_name": "Python [default]",
>>>>>>> dd6e74eea865a62935d1da4d0dd7f242cd99846d
   "language": "python",
   "name": "python3"
  },
  "language_info": {
   "codemirror_mode": {
    "name": "ipython",
    "version": 3
   },
   "file_extension": ".py",
   "mimetype": "text/x-python",
   "name": "python",
   "nbconvert_exporter": "python",
   "pygments_lexer": "ipython3",
<<<<<<< HEAD
   "version": "3.6.2"
=======
   "version": "3.5.2"
>>>>>>> dd6e74eea865a62935d1da4d0dd7f242cd99846d
  },
  "nteract": {
   "version": "0.2.0"
  }
 },
 "nbformat": 4,
 "nbformat_minor": 2
}
