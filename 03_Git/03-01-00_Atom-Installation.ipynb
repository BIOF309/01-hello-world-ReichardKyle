{
  "cells": [
    {
      "cell_type": "markdown",
      "source": [
        "# Installing Python\n",
        "---"
      ],
      "metadata": {}
    },
    {
      "cell_type": "markdown",
      "source": [
        "[`Python`](http://python.org/) is a popular language for research computing, and great for general-purpose programming as well. Installing all of its research packages individually can be a bit difficult, so we recommend [Anaconda](https://www.continuum.io/anaconda), an all-in-one installer."
      ],
      "metadata": {}
    },
    {
      "cell_type": "markdown",
      "source": [
        "Regardless of how you choose to install it, please make sure you install **Python version 3.x** (e.g., 3.6 is fine).\n",
        "\n",
        "We will teach Python using the [Jupyter Notebook](http://jupyter.org/), a programming environment that runs in a web browser. For this to work you will need a reasonably up-to-date browser. The current versions of the Chrome, Safari and Firefox browsers are all supported (some older browsers, including Internet Explorer version 9 and below, are not).\n",
        "\n---"
      ],
      "metadata": {}
    },
    {
      "cell_type": "markdown",
      "source": [
        "### Windows\n",
        "\n",
        "[Video tutorial](https://www.youtube.com/watch?v=xxQ0mzZ8UvA)\n",
        "\n",
        "1. Open http://continuum.io/downloads with your web browser.\n",
        "1. Download the `Python 3` installer for Windows.\n",
        "1. Install `Python 3` using all of the defaults for installation except make sure to check **Make Anaconda the default Python**.\n",
        "\n---"
      ],
      "metadata": {}
    },
    {
      "cell_type": "markdown",
      "source": [
        "### Mac OSX\n",
        "\n",
        "[Video tutorial](https://www.youtube.com/watch?v=TcSAln46u9U)\n",
        "\n",
        "1. Open http://continuum.io/downloads with your web browser.\n",
        "1. Download the `Python 3` installer for OS X.\n",
        "1. Install `Python 3` using all of the defaults for installation.\n",
        "\n---"
      ],
      "metadata": {}
    },
    {
      "cell_type": "markdown",
      "source": [
        "### Linux\n",
        "\n",
        "1. Open http://continuum.io/downloads with your web browser.\n",
        "1. Download the `Python 3` installer for Linux.\n",
        "1. Install `Python 3` using all of the defaults for installation. (Installation requires using the shell. If you aren't comfortable doing the installation yourself stop here and request help at the workshop.)\n",
        "1. Open a terminal window.\n",
        "1. Type:\n",
        "~~~\n",
        "bash Anaconda3-\n",
        "~~~\n",
        "and then press tab. The name of the file you just downloaded should appear.\n",
        "\n",
        "1. Press enter. You will follow the text-only prompts. When there is a colon at the bottom of the screen press the down arrow to move down through the text. Type yes and press enter to approve the license. Press enter to approve the default location for the files. Type yes and press enter to prepend Anaconda to your PATH (this makes the Anaconda distribution the default `Python`).\n",
        "\n---"
      ],
      "metadata": {}
    },
    {
      "cell_type": "markdown",
      "source": [
        "This installation tutorial is taken from [Software Carpentry](http://swcarpentry.github.io/workshop-template/#setup)."
      ],
      "metadata": {}
    },
    {
      "cell_type": "markdown",
      "source": [
        "## Anaconda install in-depth"
      ],
      "metadata": {}
    },
    {
      "cell_type": "markdown",
      "source": [
        "## Step 1: Install Anaconda \n",
        "\n",
        "To install Anaconda, follow these [instructions][instruc]\n",
        "You have two options:\n",
        "\n",
        "1. Graphical Install (for Windows or Mac);\n",
        "\n",
        "2. Command Line Install (for Mac or Linux)\n",
        "\n",
        "If you have not used the command line before, you should pick the Graphical Install option.\n",
        "\n",
        "Make sure to pick the appropriate install option for your system (32 vs. 64-bit and Windows, Mac or Linux). \n",
        "\n",
        "If you use the Graphical Install option, you should keep defaults (add Anaconda to path and use Anaconda as default python).\n",
        "\n",
        "You will not need Anaconda Cloud for anything at this point.\n"
      ],
      "metadata": {}
    },
    {
      "cell_type": "markdown",
      "source": [
        "# Optional steps (skip for now)"
      ],
      "metadata": {}
    },
    {
      "cell_type": "markdown",
      "source": [
        "\n",
        "## Step 2: Create a new Environment in Anaconda Navigator\n",
        "\n",
        "- After installing Anaconda, open Anaconda Navigator \n",
        "- Create a new Environment in the Environment tab\n",
        "- Click the Environments tab\n",
        "- Create new Environment and pick a name (e.g. biof309)\n",
        "\n",
        "## Step 3: Install necessary packages\n",
        "\n",
        "- To enable UNIX commands on Windows, install m2-base\n",
        "- To enable Git commands, install m2-git\n",
        "- To enable SQL commands, install sqlite\n",
        "- To enable R commands, install r-essentials and rpy2 \n",
        "\n",
        "## Step 4: Run an Application in the Environment you just created\n",
        "\n",
        "Return to Applications tab, pick the Environment you just created (e.g. biof309)\n",
        "\n",
        "Now you have three main options:\n",
        "1. Install Jupyter QtConsole (for the command line use of git, sql, R and python) or \n",
        "2. Open Jupyter Notebook (if your instructor provides you with a ipynb file) or \n",
        "3. Install Rstudio (useful for R lessons only, ask your instructor)\n",
        "\n",
        "You are now ready for every Software and Data Carpentry lesson!\n",
        "[instruc]: https://docs.continuum.io/anaconda/install"
      ],
      "metadata": {}
    },
    {
      "cell_type": "markdown",
      "source": [
        "## Miniconda installation (as a backup)"
      ],
      "metadata": {}
    },
    {
      "cell_type": "markdown",
      "source": [
        "# Miniconda Setup Instructions\n",
        "\n",
        "## Step 1: Install Miniconda \n",
        "\n",
        "To install Miniconda, follow these [instructions][instruc] \n",
        "\n",
        "Make sure to download the Python 3.6 version from the [installation page][install]\n",
        "\n",
        "You are now ready to get started!\n",
        "\n",
        "[instruc]: https://conda.io/docs/install/quick.html\n",
        "[install]: https://conda.io/miniconda.html\n"
      ],
      "metadata": {}
    },
    {
      "cell_type": "markdown",
      "source": [
        "# Install Atom text editor"
      ],
      "metadata": {}
    },
    {
      "cell_type": "markdown",
      "source": [
        "Follow the instructions in the [Atom Flight Manual](https://flight-manual.atom.io/getting-started/sections/installing-atom/)."
      ],
      "metadata": {}
    },
    {
      "cell_type": "markdown",
      "source": [
        "conda create -n biof309 python=3.6 jupyter"
      ],
      "metadata": {
        "collapsed": false,
        "outputHidden": false,
        "inputHidden": false
      }
    },
    {
      "cell_type": "markdown",
      "source": [
        "## Create a new environment"
      ],
      "metadata": {}
    },
    {
      "cell_type": "markdown",
      "source": [
        "## Conda Basics"
      ],
      "metadata": {}
    },
    {
      "cell_type": "markdown",
      "source": [
        "Conda is the package and environment manager that comes with the [Anaconda distribution of Python](https://www.anaconda.com/download/).\n",
        "\n",
        "Here we will learn how to use conda to create an environment that is separate from our main installation in which we can tightly control the version of each package that we install. \n",
        "\n",
        "There are many advantages to this including being able to\n",
        "1. recreate the environment on different computer (e.g. one that belongs to a collaborator), \n",
        "2. set up a specific environment that contains only what is needed for a given project,\n",
        "2. recover quickly and easily if anything breaks, and \n",
        "3. maintain a list of every version of every piece of software we used (e.g. to provide to reviewers of any articles we try to publish).\n",
        "\n",
        "By the way, there is a great [cheatsheet for conda](https://conda.io/docs/_downloads/conda-cheatsheet.pdf) that I highly recommend.\n",
        "\nCreating an environment and a GitHub repository are two fundamental steps to starting any project the right (i.e. reproducible) way and this approach is likely to save you plenty of frustration, pain and suffering in the future."
      ],
      "metadata": {}
    },
    {
      "cell_type": "markdown",
      "source": [
        "### Starting notes"
      ],
      "metadata": {}
    },
    {
      "cell_type": "markdown",
      "source": [
        "The following commands **must** be run from the terminal (Mac/Linux) or anaconda prompt (Windows)!!!\n",
        "\nJust like with `!cd`, any changes you make with `!conda` will not persist!"
      ],
      "metadata": {}
    },
    {
      "cell_type": "markdown",
      "source": [
        "### Create an environment from an environment file"
      ],
      "metadata": {}
    },
    {
      "cell_type": "markdown",
      "source": [
        "First try to create an environment from a `.yml` file using the `conda env create` command as below."
      ],
      "metadata": {}
    },
    {
      "cell_type": "markdown",
      "source": [
        "Note: You should first navigate to the location of your file."
      ],
      "metadata": {}
    },
    {
      "cell_type": "markdown",
      "source": [
        "`conda env create --file biof309_env.yml`"
      ],
      "metadata": {
        "collapsed": false,
        "outputHidden": false,
        "inputHidden": false
      }
    },
    {
      "cell_type": "markdown",
      "source": [
        "OR"
      ],
      "metadata": {}
    },
    {
      "cell_type": "markdown",
      "source": [
        "`conda env create -f biof309_env.yml`"
      ],
      "metadata": {}
    },
    {
      "cell_type": "markdown",
      "source": [
        "Note: You may call your `.yml` files whatever you want, but the `.yml` file above is called `biof309_env.yml`."
      ],
      "metadata": {}
    },
    {
      "cell_type": "markdown",
      "source": [
        "### Activate the newly created environment"
      ],
      "metadata": {}
    },
    {
      "cell_type": "markdown",
      "source": [
        "To start your new environment, type "
      ],
      "metadata": {}
    },
    {
      "cell_type": "markdown",
      "source": [
        "`source activate biof309`"
      ],
      "metadata": {}
    },
    {
      "cell_type": "markdown",
      "source": [
        "into your terminal (Mac/Linux)"
      ],
      "metadata": {}
    },
    {
      "cell_type": "markdown",
      "source": [
        "OR"
      ],
      "metadata": {}
    },
    {
      "cell_type": "markdown",
      "source": [
        "`activate biof309` "
      ],
      "metadata": {}
    },
    {
      "cell_type": "markdown",
      "source": [
        "into anaconda prompt (Windows)."
      ],
      "metadata": {}
    },
    {
      "cell_type": "markdown",
      "source": [
        "If that works, you are all set!"
      ],
      "metadata": {}
    },
    {
      "cell_type": "markdown",
      "source": [
        "To later deactivate the environment, type "
      ],
      "metadata": {}
    },
    {
      "cell_type": "markdown",
      "source": [
        "`source deactivate biof309`"
      ],
      "metadata": {}
    },
    {
      "cell_type": "markdown",
      "source": [
        "into your terminal (Mac/Linux)"
      ],
      "metadata": {}
    },
    {
      "cell_type": "markdown",
      "source": [
        "OR"
      ],
      "metadata": {}
    },
    {
      "cell_type": "markdown",
      "source": [
        "`deactivate biof309`"
      ],
      "metadata": {}
    },
    {
      "cell_type": "markdown",
      "source": [
        "into anaconda prompt (Windows)."
      ],
      "metadata": {}
    },
    {
      "cell_type": "markdown",
      "source": [
        "### Export a new environment file"
      ],
      "metadata": {}
    },
    {
      "cell_type": "markdown",
      "source": [
        "To save a **NEW** environment file, run the `conda env export` command and provide a **NEW** filename."
      ],
      "metadata": {}
    },
    {
      "cell_type": "markdown",
      "source": [
        "`conda env export --name my_env > my_env.yml`"
      ],
      "metadata": {}
    },
    {
      "cell_type": "markdown",
      "source": [
        "Note: If you environment is activated you can skip the name option and argument."
      ],
      "metadata": {}
    },
    {
      "cell_type": "markdown",
      "source": [
        "If you want to **update** your environment file, instead of creating a new file as above, run the `conda env export` command in the directory where your environment file is located and use the **same** filename. The original environment file WILL BE OVERWRITTEN!"
      ],
      "metadata": {}
    },
    {
      "cell_type": "markdown",
      "source": [
        "`conda env export --name biof309 > biof309_env.yml`"
      ],
      "metadata": {}
    },
    {
      "cell_type": "markdown",
      "source": [
        "OR"
      ],
      "metadata": {}
    },
    {
      "cell_type": "markdown",
      "source": [
        "`conda env export --n biof309 > biof309_env.yml`"
      ],
      "metadata": {}
    },
    {
      "cell_type": "markdown",
      "source": [
        "Note: If you environment is activated you can skip the name option and argument."
      ],
      "metadata": {}
    },
    {
      "cell_type": "markdown",
      "source": [
        "### Update your environment based on an environment file"
      ],
      "metadata": {}
    },
    {
      "cell_type": "markdown",
      "source": [
        "Let's say you made some changes to your environment file (e.g. using Atom) and want to apply those changes to your environment."
      ],
      "metadata": {}
    },
    {
      "cell_type": "markdown",
      "source": [
        "To update your environment from an environment file, use the `conda env update` command as below."
      ],
      "metadata": {}
    },
    {
      "cell_type": "markdown",
      "source": [
        "`conda env update --name=biof309 --file=biof309_env.yml`"
      ],
      "metadata": {}
    },
    {
      "cell_type": "markdown",
      "source": [
        "Note: The equal signs are optional!"
      ],
      "metadata": {}
    },
    {
      "cell_type": "markdown",
      "source": [
        "### More conda commands"
      ],
      "metadata": {}
    },
    {
      "cell_type": "markdown",
      "source": [
        "If you want to create and modify your own environment from scratch, you can use the commands below."
      ],
      "metadata": {}
    },
    {
      "cell_type": "markdown",
      "source": [
        "`conda create --yes --name my_env python=3.6.2` #create a new env with a specific version of python"
      ],
      "metadata": {}
    },
    {
      "cell_type": "markdown",
      "source": [
        "Note: `conda create`, not `conda env create`."
      ],
      "metadata": {}
    },
    {
      "cell_type": "markdown",
      "source": [
        "`conda env list` #confirm environment was created"
      ],
      "metadata": {}
    },
    {
      "cell_type": "markdown",
      "source": [
        "Now activate your environment as described above!"
      ],
      "metadata": {}
    },
    {
      "cell_type": "markdown",
      "source": [
        "`conda install ipython jupyter notebook pandas numpy scipy matplotlib pandas seaborn bokeh scikit-learn altair biopython`"
      ],
      "metadata": {}
    },
    {
      "cell_type": "markdown",
      "source": [
        "Note: You can specify the versions of each package as with the `conda create` command above."
      ],
      "metadata": {}
    },
    {
      "cell_type": "markdown",
      "source": [
        "`conda list` #confirm all packages installed correctly"
      ],
      "metadata": {}
    },
    {
      "cell_type": "markdown",
      "source": [
        "conda list > conda_list.txt #save a nice list of packages\n"
      ],
      "metadata": {}
    },
    {
      "cell_type": "markdown",
      "source": [
        "`conda list --explicit > conda_list_explicit.txt` #save a detailed list of packages"
      ],
      "metadata": {}
    }
  ],
  "metadata": {
    "kernelspec": {
      "name": "python3",
      "language": "python",
      "display_name": "Python 3"
    },
    "language_info": {
      "name": "python",
      "version": "3.6.2",
      "mimetype": "text/x-python",
      "codemirror_mode": {
        "name": "ipython",
        "version": 3
      },
      "pygments_lexer": "ipython3",
      "nbconvert_exporter": "python",
      "file_extension": ".py"
    },
    "kernel_info": {
      "name": "python3"
    },
    "nteract": {
      "version": "0.2.0"
    }
  },
  "nbformat": 4,
  "nbformat_minor": 2
}