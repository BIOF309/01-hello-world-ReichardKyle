{
 "cells": [
  {
   "cell_type": "markdown",
   "metadata": {},
   "source": [
    "# Advanced Python"
   ]
  },
  {
   "cell_type": "markdown",
   "metadata": {},
   "source": [
    "---\n",
    "\n",
    "My thanks for Ryan Dale, Brenden Jeffrey, and Philip Macmenamin on advice on what to include in this seminar.\n",
    "\n",
    "---"
   ]
  },
  {
   "cell_type": "markdown",
   "metadata": {},
   "source": [
    "Learning Objectives:\n",
    "- Learn some advanced features of python\n",
    "- Explain when to use each advanced funtion"
   ]
  },
  {
   "cell_type": "markdown",
   "metadata": {},
   "source": [
    "---"
   ]
  },
  {
   "cell_type": "markdown",
   "metadata": {},
   "source": [
    "Topics\n",
    "- Packages and installation\n",
    "- Importing modules\n",
    "- Environments\n",
    "- Documentation\n",
    "- Testing\n",
    "- Logging\n",
    "- Command line arguments\n",
    "- Object Oriented Programming\n",
    "- Generators\n",
    "- Decorators\n",
    "- Best Practices"
   ]
  },
  {
   "cell_type": "markdown",
   "metadata": {},
   "source": [
    "---"
   ]
  },
  {
   "cell_type": "markdown",
   "metadata": {},
   "source": [
    "## Packages"
   ]
  },
  {
   "cell_type": "markdown",
   "metadata": {},
   "source": [
    "[PyPI](https://pypi.python.org/pypi) has ~100,000 package in it!"
   ]
  },
  {
   "cell_type": "markdown",
   "metadata": {},
   "source": [
    "### Package installation with Anaconda Navigator\n",
    "\n",
    "You can use the Anaconda Navigator GUI to install packages.\n",
    "\n",
    "Guided demo"
   ]
  },
  {
   "cell_type": "markdown",
   "metadata": {},
   "source": [
    "### Package installation with Conda\n",
    "\n",
    "Many packages in conda, but not all\n",
    "\n",
    "    conda update conda\n",
    "    conda install biopython\n",
    "\n",
    "(Note there is also bioconda for install bioinfomatics programs. We will see more in a future seminar.)"
   ]
  },
  {
   "cell_type": "markdown",
   "metadata": {},
   "source": [
    "### Package installation with pip\n",
    "\n",
    "To install the latest version of “SomeProject”:\n",
    "\n",
    "    pip install 'SomeProject'\n",
    "\n",
    "To install a specific version:\n",
    "\n",
    "    pip install 'SomeProject==1.4'\n",
    "\n",
    "To install greater than or equal to one version and less than another:\n",
    "\n",
    "    pip install 'SomeProject>=1,<2'\n",
    "\n",
    "\n",
    "    pip install --upgrade SomeProject\n",
    "\n",
    "NOTE: You can also install directly from a juyter notebook but need to use the \"-Y\" option to respond to the \"yes\" to install.\n",
    "\n",
    "Installing from VCS\n",
    "\n",
    "Install a project from VCS in “editable” mode. For a full breakdown of the syntax, see pip’s section on VCS Support.\n",
    "\n",
    "    pip install -e git+https://git.repo/some_pkg.git#egg=SomeProject          # from git\n",
    "    pip install -e hg+https://hg.repo/some_pkg.git#egg=SomeProject            # from mercurial\n",
    "    pip install -e svn+svn://svn.repo/some_pkg/trunk/#egg=SomeProject         # from svn\n",
    "    pip install -e git+https://git.repo/some_pkg.git@feature#egg=SomeProject  # from a branch\n",
    "\n",
    "\n",
    "requirements.py\n",
    "\n",
    "    pip install -r requirements.txt\n",
    "\n",
    "More information: https://packaging.python.org/installing/"
   ]
  },
  {
   "cell_type": "markdown",
   "metadata": {},
   "source": [
    "## Importing Modules"
   ]
  },
  {
   "cell_type": "markdown",
   "metadata": {},
   "source": [
    "[Source](https://www.blog.pythonlibrary.org/2016/03/01/python-101-all-about-imports/)\n",
    "\n",
    "\n",
    "Utilizing modules or packages in python is a two-step process.\n",
    "\n",
    "1. They must be installed on the computer you want to use them with; this only has to be done once but occasional updates are necessary\n",
    "1. You must import a module or package into your script once for each script you write.\n",
    "\n",
    "We will see some advice on importing in the PEP8 guidelines. PyCharm also assists users with organizing imports. \n",
    "\n",
    "\n",
    "A regular import, and quite possibly the most popular goes like this:\n",
    "\n",
    "    import sys\n",
    "\n",
    "All you need to do is use the word “import” and then specify what module or package you want to actually import. The nice thing about import though is that it can also import multiple package at once:\n",
    "\n",
    "    import os, sys, time\n",
    "\n",
    "While this is a space-saver, it’s goes against the [Python Style Guide’s recommendations](https://www.python.org/dev/peps/pep-0008/#imports) of putting each import on its own line.\n",
    "\n",
    "Sometimes when you import a module, you want to rename it. Python supports this quite easily:\n",
    "\n",
    "    import sys as system\n",
    " \n",
    "    print(system.platform)\n",
    "\n",
    "This piece of code simply renames our import to “system”. We can call all of the modules methods the same way before, but with the new name. There are also certain submodules that have to be imported using dot notation:\n",
    "\n",
    "    import urllib.error\n",
    "\n",
    "You won’t see these very often, but they’re good to know about."
   ]
  },
  {
   "cell_type": "code",
   "execution_count": 22,
   "metadata": {
    "collapsed": false
   },
   "outputs": [
    {
     "name": "stdout",
     "output_type": "stream",
     "text": [
      "/Users/squiresrb/anaconda/bin/python\r\n"
     ]
    }
   ],
   "source": [
    "!which python"
   ]
  },
  {
   "cell_type": "code",
   "execution_count": 21,
   "metadata": {
    "collapsed": false
   },
   "outputs": [
    {
     "name": "stdout",
     "output_type": "stream",
     "text": [
      "Python 3.6.0 :: Continuum Analytics, Inc.\r\n"
     ]
    }
   ],
   "source": [
    "!python -V"
   ]
  },
  {
   "cell_type": "markdown",
   "metadata": {},
   "source": [
    "## Environment"
   ]
  },
  {
   "cell_type": "markdown",
   "metadata": {},
   "source": [
    "We will use the Anaconda Navigator to create and run a new environment.\n",
    "\n",
    "Manage envronments in anaconda\n",
    "\n",
    "How to start a new Jupyter notebook in an environment"
   ]
  },
  {
   "cell_type": "markdown",
   "metadata": {},
   "source": [
    "__DEMO__"
   ]
  },
  {
   "cell_type": "code",
   "execution_count": 1,
   "metadata": {
    "collapsed": false
   },
   "outputs": [
    {
     "ename": "SyntaxError",
     "evalue": "Missing parentheses in call to 'print' (<ipython-input-1-163b74aac239>, line 2)",
     "output_type": "error",
     "traceback": [
      "\u001b[0;36m  File \u001b[0;32m\"<ipython-input-1-163b74aac239>\"\u001b[0;36m, line \u001b[0;32m2\u001b[0m\n\u001b[0;31m    print \"Hello world\"\u001b[0m\n\u001b[0m                      ^\u001b[0m\n\u001b[0;31mSyntaxError\u001b[0m\u001b[0;31m:\u001b[0m Missing parentheses in call to 'print'\n"
     ]
    }
   ],
   "source": [
    "# python 2\n",
    "print \"Hello world\""
   ]
  },
  {
   "cell_type": "code",
   "execution_count": 2,
   "metadata": {
    "collapsed": false
   },
   "outputs": [
    {
     "name": "stdout",
     "output_type": "stream",
     "text": [
      "Hello world\n"
     ]
    }
   ],
   "source": [
    "#python 3\n",
    "print(\"Hello world\")"
   ]
  },
  {
   "cell_type": "code",
   "execution_count": 3,
   "metadata": {
    "collapsed": false
   },
   "outputs": [
    {
     "data": {
      "text/plain": [
       "0.6666666666666666"
      ]
     },
     "execution_count": 3,
     "metadata": {},
     "output_type": "execute_result"
    }
   ],
   "source": [
    "2/3"
   ]
  },
  {
   "cell_type": "code",
   "execution_count": 5,
   "metadata": {
    "collapsed": false
   },
   "outputs": [
    {
     "name": "stdout",
     "output_type": "stream",
     "text": [
      "Couldn't find program: 'python2'\n"
     ]
    }
   ],
   "source": [
    "%%python2\n",
    "2/3"
   ]
  },
  {
   "cell_type": "markdown",
   "metadata": {},
   "source": [
    "__On Your Own (OYO)__\n",
    "\n",
    "python2 vs python3 and the six package\n",
    "\n",
    "http://book.pythontips.com/en/latest/targeting_python_2_3.html"
   ]
  },
  {
   "cell_type": "markdown",
   "metadata": {},
   "source": [
    "## Documentation"
   ]
  },
  {
   "cell_type": "markdown",
   "metadata": {},
   "source": [
    "### Docstrings\n",
    "\n",
    "[Source](http://www.pythonforbeginners.com/basics/python-docstrings)\n",
    "\n",
    "Python documentation strings (or docstrings) provide a convenient way of associating documentation with Python modules, functions, classes, and methods. \n",
    "\n",
    "An object's docsting is defined by including a string constant as the first statement in the object's definition. \n",
    "\n",
    "It's specified in source code that is used, like a comment, to document a specific segment of code.\n",
    "\n",
    "Unlike conventional source code comments the __docstring should describe what the function does, not how__.\n",
    "\n",
    "All functions should have a docstring. This allows the program to inspect these comments at run time, for instance as an interactive help system, or as metadata. Docstrings can be accessed by the __doc__ attribute on objects."
   ]
  },
  {
   "cell_type": "markdown",
   "metadata": {},
   "source": [
    "How should a Docstring look like?\n",
    "- The doc string line should begin with a capital letter and end with a period. \n",
    "- The first line should be a short description.\n",
    "- Don't write the name of the object. \n",
    "- If there are more lines in the documentation string, the second line should be blank, visually separating the summary from the rest of the description. \n",
    "- The following lines should be one or more paragraphs describing the object’s\n",
    "calling conventions, its side effects, etc."
   ]
  },
  {
   "cell_type": "code",
   "execution_count": 14,
   "metadata": {
    "collapsed": false
   },
   "outputs": [],
   "source": [
    "def my_function():\n",
    "    \"\"\"Do nothing, but document it.\n",
    "\n",
    "    No, really, it doesn't do anything.\n",
    "    \"\"\"\n",
    "    pass"
   ]
  },
  {
   "cell_type": "markdown",
   "metadata": {},
   "source": [
    "Let's see how this would look like when we print it"
   ]
  },
  {
   "cell_type": "code",
   "execution_count": 7,
   "metadata": {
    "collapsed": false
   },
   "outputs": [
    {
     "name": "stdout",
     "output_type": "stream",
     "text": [
      "Do nothing, but document it.\n",
      "\n",
      "    No, really, it doesn't do anything.\n",
      "    \n"
     ]
    }
   ],
   "source": [
    "print(my_function.__doc__)"
   ]
  },
  {
   "cell_type": "code",
   "execution_count": 9,
   "metadata": {
    "collapsed": false
   },
   "outputs": [
    {
     "name": "stdout",
     "output_type": "stream",
     "text": [
      "Help on function my_function in module __main__:\n",
      "\n",
      "my_function()\n",
      "    Do nothing, but document it.\n",
      "    \n",
      "    No, really, it doesn't do anything.\n",
      "\n"
     ]
    }
   ],
   "source": [
    "help(my_function)"
   ]
  },
  {
   "cell_type": "code",
   "execution_count": 8,
   "metadata": {
    "collapsed": false
   },
   "outputs": [
    {
     "ename": "ModuleNotFoundError",
     "evalue": "No module named 'mymodule'",
     "output_type": "error",
     "traceback": [
      "\u001b[0;31m---------------------------------------------------------------------------\u001b[0m",
      "\u001b[0;31mModuleNotFoundError\u001b[0m                       Traceback (most recent call last)",
      "\u001b[0;32m<ipython-input-8-31c38e35567d>\u001b[0m in \u001b[0;36m<module>\u001b[0;34m()\u001b[0m\n\u001b[0;32m----> 1\u001b[0;31m \u001b[0;32mimport\u001b[0m \u001b[0mmymodule\u001b[0m\u001b[0;34m\u001b[0m\u001b[0m\n\u001b[0m\u001b[1;32m      2\u001b[0m \u001b[0mhelp\u001b[0m\u001b[0;34m(\u001b[0m\u001b[0mmymodule\u001b[0m\u001b[0;34m)\u001b[0m\u001b[0;34m\u001b[0m\u001b[0m\n",
      "\u001b[0;31mModuleNotFoundError\u001b[0m: No module named 'mymodule'"
     ]
    }
   ],
   "source": [
    "import mymodule\n",
    "help(mymodule)"
   ]
  },
  {
   "cell_type": "markdown",
   "metadata": {
    "collapsed": true
   },
   "source": [
    "__OYO__:\n",
    "\n",
    "You can use [__sphinx__](http://www.sphinx-doc.org/en/stable/) to generate documentation based upon docstrings."
   ]
  },
  {
   "cell_type": "markdown",
   "metadata": {},
   "source": [
    "## Testing"
   ]
  },
  {
   "cell_type": "code",
   "execution_count": 18,
   "metadata": {
    "collapsed": false
   },
   "outputs": [
    {
     "name": "stdout",
     "output_type": "stream",
     "text": [
      "Writing unnecessary_math.py\n"
     ]
    }
   ],
   "source": [
    "%%writefile unnecessary_math.py\n",
    "\"\"\"\n",
    "Module showing how doctests can be included with source code\n",
    "Each '>>>' line is run as if in a python shell, and counts as a test.\n",
    "The next line, if not '>>>' is the expected output of the previous line.\n",
    "If anything doesn't match exactly (including trailing spaces), the test fails.\n",
    "\"\"\"\n",
    " \n",
    "def multiply(a, b):\n",
    "    \"\"\"\n",
    "    >>> multiply(4, 3)\n",
    "    12\n",
    "    >>> multiply('a', 3)\n",
    "    'aaa'\n",
    "    \"\"\"\n",
    "    return a * b"
   ]
  },
  {
   "cell_type": "code",
   "execution_count": 33,
   "metadata": {
    "collapsed": false
   },
   "outputs": [
    {
     "name": "stdout",
     "output_type": "stream",
     "text": [
      "Overwriting test_um_pytest.py\n"
     ]
    }
   ],
   "source": [
    "%%writefile test_um_pytest.py\n",
    "from unnecessary_math import multiply \n",
    "\n",
    "def test_numbers_3_4():\n",
    "    assert multiply(3,4) == 12\n",
    "    assert multiply(3,3) == 10\n",
    "\n",
    "\n",
    "def test_numbers_not_3_4():\n",
    "    assert multiply(3,4) != 13\n",
    "\n",
    "def test_strings_a_3():\n",
    "    assert multiply('a',3) == 'aaa'"
   ]
  },
  {
   "cell_type": "code",
   "execution_count": 34,
   "metadata": {
    "collapsed": false
   },
   "outputs": [
    {
     "name": "stdout",
     "output_type": "stream",
     "text": [
      "\u001b[1m============================= test session starts ==============================\u001b[0m\n",
      "platform darwin -- Python 3.6.0, pytest-3.0.5, py-1.4.32, pluggy-0.4.0 -- /Users/squiresrb/anaconda/bin/python\n",
      "cachedir: .cache\n",
      "rootdir: /Users/squiresrb/Documents/BCBB/Seminars/2017/python_biologists/05_advanced_python, inifile: \n",
      "collected 3 items \u001b[0m\u001b[1m\n",
      "\u001b[0m\n",
      "test_um_pytest.py::test_numbers_3_4 \u001b[31mFAILED\u001b[0m\n",
      "test_um_pytest.py::test_numbers_not_3_4 \u001b[32mPASSED\u001b[0m\n",
      "test_um_pytest.py::test_strings_a_3 \u001b[32mPASSED\u001b[0m\n",
      "\n",
      "=================================== FAILURES ===================================\n",
      "\u001b[31m\u001b[1m_______________________________ test_numbers_3_4 _______________________________\u001b[0m\n",
      "\n",
      "\u001b[1m    def test_numbers_3_4():\u001b[0m\n",
      "\u001b[1m        assert multiply(3,4) == 12\u001b[0m\n",
      "\u001b[1m>       assert multiply(3,3) == 10\u001b[0m\n",
      "\u001b[1m\u001b[31mE       assert 9 == 10\u001b[0m\n",
      "\u001b[1m\u001b[31mE        +  where 9 = multiply(3, 3)\u001b[0m\n",
      "\n",
      "\u001b[1m\u001b[31mtest_um_pytest.py\u001b[0m:5: AssertionError\n",
      "\u001b[31m\u001b[1m====================== 1 failed, 2 passed in 0.05 seconds ======================\u001b[0m\n"
     ]
    }
   ],
   "source": [
    "!python -m pytest -v test_um_pytest.py"
   ]
  },
  {
   "cell_type": "code",
   "execution_count": 35,
   "metadata": {
    "collapsed": false
   },
   "outputs": [
    {
     "name": "stdout",
     "output_type": "stream",
     "text": [
      "\u001b[1m============================= test session starts ==============================\u001b[0m\n",
      "platform darwin -- Python 3.6.0, pytest-3.0.5, py-1.4.32, pluggy-0.4.0 -- /Users/squiresrb/anaconda/bin/python\n",
      "cachedir: .cache\n",
      "rootdir: /Users/squiresrb/Documents/BCBB/Seminars/2017/python_biologists/05_advanced_python, inifile: \n",
      "collected 3 items \u001b[0m\u001b[1m\n",
      "\u001b[0m\n",
      "test_um_pytest.py::test_numbers_3_4 \u001b[31mFAILED\u001b[0m\n",
      "test_um_pytest.py::test_numbers_not_3_4 \u001b[32mPASSED\u001b[0m\n",
      "test_um_pytest.py::test_strings_a_3 \u001b[32mPASSED\u001b[0m\n",
      "\n",
      "=================================== FAILURES ===================================\n",
      "\u001b[31m\u001b[1m_______________________________ test_numbers_3_4 _______________________________\u001b[0m\n",
      "\n",
      "\u001b[1m    def test_numbers_3_4():\u001b[0m\n",
      "\u001b[1m        assert multiply(3,4) == 12\u001b[0m\n",
      "\u001b[1m>       assert multiply(3,3) == 10\u001b[0m\n",
      "\u001b[1m\u001b[31mE       assert 9 == 10\u001b[0m\n",
      "\u001b[1m\u001b[31mE        +  where 9 = multiply(3, 3)\u001b[0m\n",
      "\n",
      "\u001b[1m\u001b[31mtest_um_pytest.py\u001b[0m:5: AssertionError\n",
      "\u001b[31m\u001b[1m====================== 1 failed, 2 passed in 0.05 seconds ======================\u001b[0m\n"
     ]
    }
   ],
   "source": [
    "!py.test -v test_um_pytest.py"
   ]
  },
  {
   "cell_type": "markdown",
   "metadata": {
    "collapsed": true
   },
   "source": [
    "### Test driven development (TDD)\n",
    "\n",
    "- Start with writing the most basic test for the beginning of your project. For example: loading a file.\n",
    "- Run the test and confirm that it fails.\n",
    "- Write just enough code to pass your test\n",
    "- Confirm that the test passes\n",
    "- Write another test for the next small piece of your project or code\n",
    "- Write just enough to pass the test\n",
    "- Repeat until your code is done"
   ]
  },
  {
   "cell_type": "code",
   "execution_count": null,
   "metadata": {
    "collapsed": true
   },
   "outputs": [],
   "source": [
    "def test_number_parameters_2():\n",
    "    assert len(2)  # how do I get the number of parameters"
   ]
  },
  {
   "cell_type": "code",
   "execution_count": null,
   "metadata": {
    "collapsed": true
   },
   "outputs": [],
   "source": [
    "def func(x):\n",
    "    \"\"\"\n",
    "    test\"\"\"\n",
    "    pass"
   ]
  },
  {
   "cell_type": "markdown",
   "metadata": {},
   "source": [
    "## Logging"
   ]
  },
  {
   "cell_type": "markdown",
   "metadata": {},
   "source": [
    "Basic logging example:"
   ]
  },
  {
   "cell_type": "code",
   "execution_count": 69,
   "metadata": {
    "collapsed": true
   },
   "outputs": [],
   "source": [
    "import logging"
   ]
  },
  {
   "cell_type": "code",
   "execution_count": 73,
   "metadata": {
    "collapsed": false
   },
   "outputs": [
    {
     "name": "stderr",
     "output_type": "stream",
     "text": [
      "WARNING:root:And this, too\n"
     ]
    }
   ],
   "source": [
    "logging.basicConfig(filename='example.log',level=logging.DEBUG)\n",
    "\n",
    "logging.debug('This message should go to the log file')\n",
    "logging.info('So should this')\n",
    "logging.warning('And this, too')"
   ]
  },
  {
   "cell_type": "code",
   "execution_count": 71,
   "metadata": {
    "collapsed": false
   },
   "outputs": [
    {
     "name": "stdout",
     "output_type": "stream",
     "text": [
      "/Users/squiresrb/Documents/BCBB/Seminars/2017/python_biologists/05_advanced_python\r\n"
     ]
    }
   ],
   "source": [
    "!pwd"
   ]
  },
  {
   "cell_type": "markdown",
   "metadata": {},
   "source": [
    "Logging across multiple source code files or modules:"
   ]
  },
  {
   "cell_type": "code",
   "execution_count": 43,
   "metadata": {
    "collapsed": false
   },
   "outputs": [],
   "source": [
    "# myapp.py\n",
    "import logging\n",
    "import unnecessary_math\n",
    "\n",
    "def main():\n",
    "    logging.basicConfig(filename='myapp.log', level=logging.INFO)\n",
    "    logging.info('Started')\n",
    "    unnecessary_math.multiply(3,4)\n",
    "    logging.info('Finished')\n",
    "\n",
    "if __name__ == '__main__':\n",
    "    main()"
   ]
  },
  {
   "cell_type": "code",
   "execution_count": 74,
   "metadata": {
    "collapsed": false
   },
   "outputs": [
    {
     "name": "stdout",
     "output_type": "stream",
     "text": [
      "total 160\r\n",
      "drwxrwxrwx@ 13 squiresrb  NIH\\Domain Users    442 Feb 22 12:41 \u001b[30m\u001b[43m.\u001b[m\u001b[m\r\n",
      "drwxrwxr-x  17 squiresrb  NIH\\Domain Users    578 Feb 22 09:17 \u001b[34m..\u001b[m\u001b[m\r\n",
      "-rw-r--r--@  1 squiresrb  NIH\\Domain Users   6148 Feb 21 10:54 .DS_Store\r\n",
      "drwxrwxr-x   3 squiresrb  NIH\\Domain Users    102 Feb 22 10:58 \u001b[34m.cache\u001b[m\u001b[m\r\n",
      "drwxr-xr-x   4 squiresrb  NIH\\Domain Users    136 Feb 22 12:27 \u001b[34m.ipynb_checkpoints\u001b[m\u001b[m\r\n",
      "-rw-rw-r--   1 squiresrb  NIH\\Domain Users  47350 Feb 22 12:41 Advanced Python - In Class.ipynb\r\n",
      "-rw-rw-r--   1 squiresrb  NIH\\Domain Users    950 Feb 22 09:30 Untitled.ipynb\r\n",
      "drwxrwxr-x   4 squiresrb  NIH\\Domain Users    136 Feb 22 11:02 \u001b[34m__pycache__\u001b[m\u001b[m\r\n",
      "-rw-r--r--   1 squiresrb  NIH\\Domain Users   1410 Feb 22 09:17 command_line_script_starter.py\r\n",
      "-rw-rw-r--   1 squiresrb  NIH\\Domain Users    427 Feb 22 11:38 parse_test.py\r\n",
      "-rwxrwxrwx@  1 squiresrb  NIH\\Domain Users    417 Feb 21 09:58 \u001b[31mscript_starter.py\u001b[m\u001b[m\r\n",
      "-rw-rw-r--   1 squiresrb  NIH\\Domain Users    247 Feb 22 11:02 test_um_pytest.py\r\n",
      "-rw-rw-r--   1 squiresrb  NIH\\Domain Users    410 Feb 22 10:51 unnecessary_math.py\r\n"
     ]
    }
   ],
   "source": [
    "!ls -la"
   ]
  },
  {
   "cell_type": "code",
   "execution_count": null,
   "metadata": {
    "collapsed": true
   },
   "outputs": [],
   "source": [
    "# mylib.py\n",
    "import logging\n",
    "\n",
    "def do_something():\n",
    "    logging.info('Doing something')\n",
    "    "
   ]
  },
  {
   "cell_type": "markdown",
   "metadata": {
    "collapsed": true
   },
   "source": [
    "For more: https://awesome-python.com/#logging"
   ]
  },
  {
   "cell_type": "markdown",
   "metadata": {},
   "source": [
    "## Command line Arguments"
   ]
  },
  {
   "cell_type": "code",
   "execution_count": null,
   "metadata": {
    "collapsed": true
   },
   "outputs": [],
   "source": [
    "import argparse\n",
    "\n",
    "parser = argparse.ArgumentParser()\n",
    "parser.parse_args()"
   ]
  },
  {
   "cell_type": "code",
   "execution_count": null,
   "metadata": {
    "collapsed": true
   },
   "outputs": [],
   "source": [
    "!python program.py echo"
   ]
  },
  {
   "cell_type": "code",
   "execution_count": null,
   "metadata": {
    "collapsed": true
   },
   "outputs": [],
   "source": [
    "import argparse\n",
    "\n",
    "parser = argparse.ArgumentParser()\n",
    "parser.add_argument(\"echo\")\n",
    "args = parser.parse_args()\n",
    "\n",
    "print(args.echo)"
   ]
  },
  {
   "cell_type": "code",
   "execution_count": null,
   "metadata": {
    "collapsed": true
   },
   "outputs": [],
   "source": []
  },
  {
   "cell_type": "code",
   "execution_count": null,
   "metadata": {
    "collapsed": true
   },
   "outputs": [],
   "source": [
    "import argparse\n",
    "parser = argparse.ArgumentParser()\n",
    "parser.add_argument(\"echo\", help=\"echo the string you use here\")\n",
    "args = parser.parse_args()\n",
    "print(args.echo)"
   ]
  },
  {
   "cell_type": "code",
   "execution_count": null,
   "metadata": {
    "collapsed": true
   },
   "outputs": [],
   "source": []
  },
  {
   "cell_type": "code",
   "execution_count": null,
   "metadata": {
    "collapsed": true
   },
   "outputs": [],
   "source": [
    "import argparse\n",
    "parser = argparse.ArgumentParser()\n",
    "parser.add_argument(\"square\", help=\"display a square of a given number\",\n",
    "                    type=int)\n",
    "args = parser.parse_args()\n",
    "print(args.square**2)"
   ]
  },
  {
   "cell_type": "code",
   "execution_count": null,
   "metadata": {
    "collapsed": true
   },
   "outputs": [],
   "source": []
  },
  {
   "cell_type": "code",
   "execution_count": null,
   "metadata": {
    "collapsed": true
   },
   "outputs": [],
   "source": [
    "import argparse\n",
    "parser = argparse.ArgumentParser()\n",
    "parser.add_argument(\"--verbosity\", help=\"increase output verbosity\")\n",
    "args = parser.parse_args()\n",
    "if args.verbosity:\n",
    "    print(\"verbosity turned on\")"
   ]
  },
  {
   "cell_type": "code",
   "execution_count": null,
   "metadata": {
    "collapsed": true
   },
   "outputs": [],
   "source": []
  },
  {
   "cell_type": "code",
   "execution_count": 49,
   "metadata": {
    "collapsed": false
   },
   "outputs": [
    {
     "name": "stdout",
     "output_type": "stream",
     "text": [
      "Writing parse_test.py\n"
     ]
    }
   ],
   "source": [
    "%%writefile parse_test.py\n",
    "import argparse\n",
    "parser = argparse.ArgumentParser()\n",
    "parser.add_argument(\"square\", type=int,\n",
    "                    help=\"display a square of a given number\")\n",
    "parser.add_argument(\"-v\", \"--verbose\", action=\"store_true\",\n",
    "                    help=\"increase output verbosity\")\n",
    "args = parser.parse_args()\n",
    "answer = args.square**2\n",
    "if args.verbose:\n",
    "    print(\"the square of {} equals {}\".format(args.square, answer))\n",
    "else:\n",
    "    print(answer)"
   ]
  },
  {
   "cell_type": "code",
   "execution_count": 50,
   "metadata": {
    "collapsed": false
   },
   "outputs": [
    {
     "name": "stdout",
     "output_type": "stream",
     "text": [
      "usage: parse_test.py [-h] [-v] square\r\n",
      "\r\n",
      "positional arguments:\r\n",
      "  square         display a square of a given number\r\n",
      "\r\n",
      "optional arguments:\r\n",
      "  -h, --help     show this help message and exit\r\n",
      "  -v, --verbose  increase output verbosity\r\n"
     ]
    }
   ],
   "source": [
    "!python parse_test.py -h"
   ]
  },
  {
   "cell_type": "code",
   "execution_count": null,
   "metadata": {
    "collapsed": true
   },
   "outputs": [],
   "source": [
    "!python program_name 2 --verbose"
   ]
  },
  {
   "cell_type": "markdown",
   "metadata": {},
   "source": [
    "Python script template with argparse in it: https://gist.github.com/burkesquires/2bab01406597312a2ef0cc74128df89f"
   ]
  },
  {
   "cell_type": "markdown",
   "metadata": {},
   "source": [
    "## Object Oriented Programming"
   ]
  },
  {
   "cell_type": "markdown",
   "metadata": {
    "collapsed": true
   },
   "source": [
    "#### Advantages and Disadvantages of Object-Oriented Programming (OOP)\n",
    "[Source](https://www.saylor.org/site/wp-content/uploads/2013/02/CS101-2.1.2-AdvantagesDisadvantagesOfOOP-FINAL.pdf)\n",
    "\n",
    "Some of the advantages of object-oriented programming include:\n",
    "1. Improved software-development productivity: modularity, extensibility, and reusability\n",
    "2. Improved software maintainability\n",
    "3. Faster development: Reuse enables faster development\n",
    "4. Lower cost of development: Reuse of software also lowers the cost of development\n",
    "5. Higher-quality software: More time for verification \n",
    "\n",
    "\n",
    "Disadvantages of object-oriented programming include:\n",
    "1. Steep learning curve\n",
    "2. Larger program size: OOP typically involve more lines of code than procedural programs\n",
    "3. Slower programs\n",
    "4. Not suitable for all types of problems: There are problems that lend themselves well to functional-programming style, logic-programming style, or procedure-based programming style, and applying object-oriented programming in those situations will not result in efficient programs.  "
   ]
  },
  {
   "cell_type": "markdown",
   "metadata": {},
   "source": [
    "## Classes"
   ]
  },
  {
   "cell_type": "markdown",
   "metadata": {},
   "source": [
    "[Source](https://learnxinyminutes.com/docs/python3/)"
   ]
  },
  {
   "cell_type": "code",
   "execution_count": 51,
   "metadata": {
    "collapsed": false
   },
   "outputs": [
    {
     "name": "stdout",
     "output_type": "stream",
     "text": [
      "Ian: hi\n",
      "Joel: hello\n",
      "Ian: H. sapiens\n",
      "Ian: H. neanderthalensis\n",
      "Joel: H. neanderthalensis\n",
      "*grunt*\n",
      "*grunt*\n",
      "Ian: 42\n",
      "Joel: 0\n"
     ]
    }
   ],
   "source": [
    "# We use the \"class\" operator to get a class\n",
    "class Human:\n",
    "\n",
    "    # A class attribute. It is shared by all instances of this class\n",
    "    species = \"H. sapiens\"\n",
    "\n",
    "    # Basic initializer, this is called when this class is instantiated.\n",
    "    # Note that the double leading and trailing underscores denote objects\n",
    "    # or attributes that are used by python but that live in user-controlled\n",
    "    # namespaces. Methods(or objects or attributes) like: __init__, __str__,\n",
    "    # __repr__ etc. are called magic methods (or sometimes called dunder methods)\n",
    "    # You should not invent such names on your own.\n",
    "    def __init__(self, name):\n",
    "        # Assign the argument to the instance's name attribute\n",
    "        self.name = name\n",
    "\n",
    "        # Initialize property\n",
    "        self.age = 0\n",
    "\n",
    "    # An instance method. All methods take \"self\" as the first argument\n",
    "    def say(self, msg):\n",
    "        print (\"{name}: {message}\".format(name=self.name, message=msg))\n",
    "\n",
    "    # Another instance method\n",
    "    def sing(self):\n",
    "        return 'yo... yo... microphone check... one two... one two...'\n",
    "\n",
    "    # A class method is shared among all instances\n",
    "    # They are called with the calling class as the first argument\n",
    "    @classmethod\n",
    "    def get_species(cls):\n",
    "        return cls.species\n",
    "\n",
    "    # A static method is called without a class or instance reference\n",
    "    @staticmethod\n",
    "    def grunt():\n",
    "        return \"*grunt*\"\n",
    "\n",
    "    # A property is just like a getter.\n",
    "    # It turns the method age() into an read-only attribute\n",
    "    # of the same name.\n",
    "    @property\n",
    "    def age(self):\n",
    "        return self._age\n",
    "\n",
    "    # This allows the property to be set\n",
    "    @age.setter\n",
    "    def age(self, age):\n",
    "        self._age = age\n",
    "\n",
    "    # This allows the property to be deleted\n",
    "    @age.deleter\n",
    "    def age(self):\n",
    "        del self._age\n",
    "\n",
    "\n",
    "# When a Python interpreter reads a source file it executes all its code.\n",
    "# This __name__ check makes sure this code block is only executed when this\n",
    "# module is the main program.\n",
    "if __name__ == '__main__':\n",
    "    \n",
    "    # Instantiate a class\n",
    "    i = Human(name=\"Ian\")\n",
    "    i.say(\"hi\")                     # \"Ian: hi\"\n",
    "    \n",
    "    j = Human(\"Joel\")\n",
    "    j.say(\"hello\")                  # \"Joel: hello\"\n",
    "    \n",
    "    # i and j are instances of type Human, or in other words: they are Human objects\n",
    "\n",
    "    # Call our class method\n",
    "    i.say(i.get_species())          # \"Ian: H. sapiens\"\n",
    "    \n",
    "    # Change the shared attribute\n",
    "    Human.species = \"H. neanderthalensis\"\n",
    "    i.say(i.get_species())          # => \"Ian: H. neanderthalensis\"\n",
    "    j.say(j.get_species())          # => \"Joel: H. neanderthalensis\"\n",
    "\n",
    "    # Call the static method\n",
    "    print(Human.grunt())            # => \"*grunt*\"\n",
    "    print(i.grunt())                # => \"*grunt*\"\n",
    "\n",
    "    # Update the property for this instance\n",
    "    i.age = 42\n",
    "    # Get the property\n",
    "    i.say(i.age)                    # => \"Ian: 42\"\n",
    "    j.say(j.age)                    # => \"Joel: 0\"\n",
    "    # Delete the property\n",
    "    del i.age\n",
    "    # i.age                         # => this would raise an AttributeError"
   ]
  },
  {
   "cell_type": "markdown",
   "metadata": {},
   "source": [
    "## Multiple Inheritance"
   ]
  },
  {
   "cell_type": "code",
   "execution_count": 53,
   "metadata": {
    "collapsed": false
   },
   "outputs": [
    {
     "name": "stdout",
     "output_type": "stream",
     "text": [
      "... ... ...\n",
      "True\n"
     ]
    }
   ],
   "source": [
    "# Another class definition\n",
    "class Bat:\n",
    "\n",
    "    species = 'Baty'\n",
    "\n",
    "    def __init__(self, can_fly=True):\n",
    "        self.fly = can_fly\n",
    "\n",
    "    # This class also has a say method\n",
    "    def say(self, msg):\n",
    "        msg = '... ... ...'\n",
    "        return msg\n",
    "\n",
    "    # And its own method as well\n",
    "    def sonar(self):\n",
    "        return '))) ... ((('\n",
    "\n",
    "if __name__ == '__main__':\n",
    "    b = Bat()\n",
    "    print(b.say('hello'))\n",
    "    print(b.fly)"
   ]
  },
  {
   "cell_type": "code",
   "execution_count": 56,
   "metadata": {
    "collapsed": false
   },
   "outputs": [
    {
     "name": "stdout",
     "output_type": "stream",
     "text": [
      "I am human\n",
      "I am bat\n",
      "I am Batman\n",
      "(<class '__main__.Batman'>, <class '__main__.Human'>, <class '__main__.Bat'>, <class 'object'>)\n",
      "Superhero\n",
      "nan nan nan nan nan batman!\n",
      "))) ... (((\n",
      "100\n",
      "Can I fly? False\n"
     ]
    }
   ],
   "source": [
    "# To take advantage of modularization by file you could place the classes above in their own files,\n",
    "# say, human.py and bat.py\n",
    "\n",
    "# to import functions from other files use the following format\n",
    "# from \"filename-without-extension\" import \"function-or-class\"\n",
    "\n",
    "# superhero.py\n",
    "#from human import Human\n",
    "#from bat import Bat\n",
    "\n",
    "# Batman inherits from both Human and Bat\n",
    "class Batman(Human, Bat):\n",
    "\n",
    "    # Batman has its own value for the species class attribute\n",
    "    species = 'Superhero'\n",
    "\n",
    "    def __init__(self, *args, **kwargs):\n",
    "        # Typically to inherit attributes you have to call super:\n",
    "        #super(Batman, self).__init__(*args, **kwargs)      \n",
    "        # However we are dealing with multiple inheritance here, and super()\n",
    "        # only works with the next base class in the MRO list.\n",
    "        # So instead we explicitly call __init__ for all ancestors.\n",
    "        # The use of *args and **kwargs allows for a clean way to pass arguments,\n",
    "        # with each parent \"peeling a layer of the onion\".\n",
    "        Human.__init__(self, 'anonymous', *args, **kwargs)\n",
    "        Bat.__init__(self, *args, can_fly=False, **kwargs)\n",
    "        # override the value for the name attribute\n",
    "        self.name = 'Bruce Wayne'\n",
    "\n",
    "    def sing(self):\n",
    "        return 'nan nan nan nan nan batman!'\n",
    "    \n",
    "    def say(self, msg):\n",
    "        return msg + \"!!!\"\n",
    "\n",
    "\n",
    "\n",
    "\n",
    "if __name__ == '__main__':\n",
    "    sup = Batman()\n",
    "\n",
    "    # Instance type checks\n",
    "    if isinstance(sup, Human):\n",
    "        print('I am human')\n",
    "    if isinstance(sup, Bat):\n",
    "        print('I am bat')\n",
    "    if type(sup) is Batman:\n",
    "        print('I am Batman')\n",
    "\n",
    "    # Get the Method Resolution search Order used by both getattr() and super().\n",
    "    # This attribute is dynamic and can be updated\n",
    "    print(Batman.__mro__)       # => (<class '__main__.Batman'>, <class 'human.Human'>, <class 'bat.Bat'>, <class 'object'>)\n",
    "\n",
    "    # Calls parent method but uses its own class attribute\n",
    "    print(sup.get_species())    # => Superhero\n",
    "\n",
    "    # Calls overloaded method\n",
    "    print(sup.sing())           # => nan nan nan nan nan batman!\n",
    "\n",
    "    # Calls method from Human, because inheritance order matters\n",
    "    sup.say('I agree')          # => Sad Affleck: I agree\n",
    "\n",
    "    # Call method that exists only in 2nd ancestor\n",
    "    print(sup.sonar())          # => ))) ... (((\n",
    "\n",
    "    # Inherited class attribute\n",
    "    sup.age = 100\n",
    "    print(sup.age)\n",
    "\n",
    "    # Inherited attribute from 2nd ancestor whose default value was overridden.\n",
    "    print('Can I fly? ' + str(sup.fly))"
   ]
  },
  {
   "cell_type": "markdown",
   "metadata": {},
   "source": [
    "## Generators"
   ]
  },
  {
   "cell_type": "markdown",
   "metadata": {},
   "source": [
    "Generators are iterators, but you can only iterate over them once. It’s because they do not store all the values in memory, they generate the values on the fly:"
   ]
  },
  {
   "cell_type": "code",
   "execution_count": 60,
   "metadata": {
    "collapsed": false
   },
   "outputs": [
    {
     "name": "stdout",
     "output_type": "stream",
     "text": [
      "0\n",
      "3\n",
      "6\n",
      "9\n",
      "12\n",
      "15\n",
      "18\n",
      "21\n",
      "24\n",
      "27\n",
      "30\n",
      "33\n",
      "36\n",
      "39\n",
      "42\n",
      "45\n",
      "48\n",
      "51\n",
      "54\n",
      "57\n",
      "60\n",
      "63\n",
      "66\n",
      "69\n",
      "72\n",
      "75\n",
      "78\n",
      "81\n",
      "84\n",
      "87\n",
      "90\n",
      "93\n",
      "96\n",
      "99\n",
      "102\n",
      "105\n",
      "108\n",
      "111\n",
      "114\n",
      "117\n",
      "120\n",
      "123\n",
      "126\n",
      "129\n",
      "132\n",
      "135\n",
      "138\n",
      "141\n",
      "144\n",
      "147\n",
      "150\n",
      "153\n",
      "156\n",
      "159\n",
      "162\n",
      "165\n",
      "168\n",
      "171\n",
      "174\n",
      "177\n",
      "180\n",
      "183\n",
      "186\n",
      "189\n",
      "192\n",
      "195\n",
      "198\n",
      "201\n",
      "204\n",
      "207\n",
      "210\n",
      "213\n",
      "216\n",
      "219\n",
      "222\n",
      "225\n",
      "228\n",
      "231\n",
      "234\n",
      "237\n",
      "240\n",
      "243\n",
      "246\n",
      "249\n",
      "252\n",
      "255\n",
      "258\n",
      "261\n",
      "264\n",
      "267\n",
      "270\n",
      "273\n",
      "276\n",
      "279\n",
      "282\n",
      "285\n",
      "288\n",
      "291\n",
      "294\n",
      "297\n",
      "300\n",
      "303\n",
      "306\n",
      "309\n",
      "312\n",
      "315\n",
      "318\n",
      "321\n",
      "324\n",
      "327\n",
      "330\n",
      "333\n",
      "336\n",
      "339\n",
      "342\n",
      "345\n",
      "348\n",
      "351\n",
      "354\n",
      "357\n",
      "360\n",
      "363\n",
      "366\n",
      "369\n",
      "372\n",
      "375\n",
      "378\n",
      "381\n",
      "384\n",
      "387\n",
      "390\n",
      "393\n",
      "396\n",
      "399\n",
      "402\n",
      "405\n",
      "408\n",
      "411\n",
      "414\n",
      "417\n",
      "420\n",
      "423\n",
      "426\n",
      "429\n",
      "432\n",
      "435\n",
      "438\n",
      "441\n",
      "444\n",
      "447\n",
      "450\n",
      "453\n",
      "456\n",
      "459\n",
      "462\n",
      "465\n",
      "468\n",
      "471\n",
      "474\n",
      "477\n",
      "480\n",
      "483\n",
      "486\n",
      "489\n",
      "492\n",
      "495\n",
      "498\n",
      "501\n",
      "504\n",
      "507\n",
      "510\n",
      "513\n",
      "516\n",
      "519\n",
      "522\n",
      "525\n",
      "528\n",
      "531\n",
      "534\n",
      "537\n",
      "540\n",
      "543\n",
      "546\n",
      "549\n",
      "552\n",
      "555\n",
      "558\n",
      "561\n",
      "564\n",
      "567\n",
      "570\n",
      "573\n",
      "576\n",
      "579\n",
      "582\n",
      "585\n",
      "588\n",
      "591\n",
      "594\n",
      "597\n",
      "600\n",
      "603\n",
      "606\n",
      "609\n",
      "612\n",
      "615\n",
      "618\n",
      "621\n",
      "624\n",
      "627\n",
      "630\n",
      "633\n",
      "636\n",
      "639\n",
      "642\n",
      "645\n",
      "648\n",
      "651\n",
      "654\n",
      "657\n",
      "660\n",
      "663\n",
      "666\n",
      "669\n",
      "672\n",
      "675\n",
      "678\n",
      "681\n",
      "684\n",
      "687\n",
      "690\n",
      "693\n",
      "696\n",
      "699\n",
      "702\n",
      "705\n",
      "708\n",
      "711\n",
      "714\n",
      "717\n",
      "720\n",
      "723\n",
      "726\n",
      "729\n",
      "732\n",
      "735\n",
      "738\n",
      "741\n",
      "744\n",
      "747\n",
      "750\n",
      "753\n",
      "756\n",
      "759\n",
      "762\n",
      "765\n",
      "768\n",
      "771\n",
      "774\n",
      "777\n",
      "780\n",
      "783\n",
      "786\n",
      "789\n",
      "792\n",
      "795\n",
      "798\n",
      "801\n",
      "804\n",
      "807\n",
      "810\n",
      "813\n",
      "816\n",
      "819\n",
      "822\n",
      "825\n",
      "828\n",
      "831\n",
      "834\n",
      "837\n",
      "840\n",
      "843\n",
      "846\n",
      "849\n",
      "852\n",
      "855\n",
      "858\n",
      "861\n",
      "864\n",
      "867\n",
      "870\n",
      "873\n",
      "876\n",
      "879\n",
      "882\n",
      "885\n",
      "888\n",
      "891\n",
      "894\n",
      "897\n",
      "900\n",
      "903\n",
      "906\n",
      "909\n",
      "912\n",
      "915\n",
      "918\n",
      "921\n",
      "924\n",
      "927\n",
      "930\n",
      "933\n",
      "936\n",
      "939\n",
      "942\n",
      "945\n",
      "948\n",
      "951\n",
      "954\n",
      "957\n",
      "960\n",
      "963\n",
      "966\n",
      "969\n",
      "972\n",
      "975\n",
      "978\n",
      "981\n",
      "984\n",
      "987\n",
      "990\n",
      "993\n",
      "996\n",
      "999\n"
     ]
    }
   ],
   "source": [
    "for x in range(0, 1000, 3):\n",
    "    print(x)"
   ]
  },
  {
   "cell_type": "code",
   "execution_count": 64,
   "metadata": {
    "collapsed": false
   },
   "outputs": [
    {
     "name": "stdout",
     "output_type": "stream",
     "text": [
      "0\n",
      "1\n",
      "4\n"
     ]
    }
   ],
   "source": [
    "mygenerator = (x*x for x in range(3))\n",
    "\n",
    "for i in mygenerator:\n",
    "    print(i)"
   ]
  },
  {
   "cell_type": "code",
   "execution_count": 65,
   "metadata": {
    "collapsed": true
   },
   "outputs": [],
   "source": [
    "for i in mygenerator:\n",
    "    print(i)"
   ]
  },
  {
   "cell_type": "markdown",
   "metadata": {},
   "source": [
    "## Decorators"
   ]
  },
  {
   "cell_type": "markdown",
   "metadata": {},
   "source": [
    "[Source](http://book.pythontips.com/en/latest/decorators.html)\n",
    "\n",
    "Decorators are functions which modify the functionality of another function.\n",
    "\n",
    "Decorators let you execute code before and after a function."
   ]
  },
  {
   "cell_type": "code",
   "execution_count": 66,
   "metadata": {
    "collapsed": true
   },
   "outputs": [],
   "source": [
    "from functools import wraps\n",
    "\n",
    "def logit(func):\n",
    "    @wraps(func)\n",
    "    def with_logging(*args, **kwargs):\n",
    "        print(func.__name__ + \" was called\")\n",
    "        return func(*args, **kwargs)\n",
    "    return with_logging\n",
    "\n",
    "@logit\n",
    "def addition_func(x):\n",
    "   \"\"\"Do some math.\"\"\"\n",
    "   return x + x"
   ]
  },
  {
   "cell_type": "code",
   "execution_count": 68,
   "metadata": {
    "collapsed": false
   },
   "outputs": [
    {
     "name": "stdout",
     "output_type": "stream",
     "text": [
      "addition_func was called\n"
     ]
    },
    {
     "data": {
      "text/plain": [
       "8"
      ]
     },
     "execution_count": 68,
     "metadata": {},
     "output_type": "execute_result"
    }
   ],
   "source": [
    "result = addition_func(4)\n",
    "result"
   ]
  },
  {
   "cell_type": "markdown",
   "metadata": {
    "collapsed": true
   },
   "source": [
    "For more info: http://book.pythontips.com/en/latest/decorators.html"
   ]
  },
  {
   "cell_type": "markdown",
   "metadata": {
    "collapsed": true
   },
   "source": [
    "## Python Standard Library\n",
    "\n",
    "    datetime\n",
    "    - Enables python to work natively with dates and times\n",
    "\n",
    "    glob\n",
    "    - Enables python to return a list of files with the given extension.\n",
    "\n",
    "    itertools\n",
    "    - Advanced functions operating on lists and iterable objects.\n",
    "\n",
    "    multiprocessing\n",
    "    - Enable python to run multiple processes\n",
    "\n",
    "    os\n",
    "    - The functions that the OS module provides allows you to interface with the underlying operating system that Python is running on. (Windows, Mac or Linux) (http://www.pythonforbeginners.com/os/python-system-administration) \n",
    "\n",
    "    shutil\n",
    "    - High-level file (shell) operations\n",
    "\n",
    "    subprocess\n",
    "    - Enables python to run command line statements; like using \"!\" in Jupyter notebook"
   ]
  },
  {
   "cell_type": "markdown",
   "metadata": {},
   "source": [
    "# Best Practices"
   ]
  },
  {
   "cell_type": "markdown",
   "metadata": {
    "collapsed": true
   },
   "source": [
    "### Pep8\n",
    "\n",
    "https://www.python.org/dev/peps/pep-0008/\n",
    "\n",
    "### Linting\n",
    "\n",
    "https://www.pylint.org\n",
    "\n",
    "\n",
    "### Testing\n",
    "\n",
    "Just do it! :-)\n",
    "\n",
    "### Documentation\n",
    "\n",
    "Just do it! :-)\n",
    "\n",
    "\n",
    "\n",
    "### Version control (git etc)\n",
    "\n",
    "We will look at this in reproducible science seminar. I find that it help me more then oanyone else!\n",
    "\n",
    "### Licenses\n",
    "\n",
    "Remeber to add a license to GitHub code or packages\n",
    "\n",
    "\n"
   ]
  },
  {
   "cell_type": "markdown",
   "metadata": {},
   "source": [
    "---"
   ]
  },
  {
   "cell_type": "markdown",
   "metadata": {},
   "source": [
    "# Resources:    "
   ]
  },
  {
   "cell_type": "markdown",
   "metadata": {},
   "source": [
    "- Python 3 Reference card - https://dzone.com/refcardz/core-python\n",
    "\n",
    "HTTPS://awesome-python.com\n",
    "https://pythontips.com/2013/09/01/best-python-resources/\n",
    "\n",
    "\n",
    "http://book.pythontips.com/en/latest/ (intermediate python)\n",
    "\n",
    "\n",
    "Python podcasts\n",
    "- Talk Python To Me\n",
    "\n"
   ]
  },
  {
   "cell_type": "code",
   "execution_count": null,
   "metadata": {
    "collapsed": true
   },
   "outputs": [],
   "source": []
  }
 ],
 "metadata": {
  "kernelspec": {
   "display_name": "Python 3",
   "language": "python",
   "name": "python3"
  },
  "language_info": {
   "codemirror_mode": {
    "name": "ipython",
    "version": 3
   },
   "file_extension": ".py",
   "mimetype": "text/x-python",
   "name": "python",
   "nbconvert_exporter": "python",
   "pygments_lexer": "ipython3",
   "version": "3.6.0"
  }
 },
 "nbformat": 4,
 "nbformat_minor": 2
}
