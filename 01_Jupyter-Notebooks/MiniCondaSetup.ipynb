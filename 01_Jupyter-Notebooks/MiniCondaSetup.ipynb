{
 "cells": [
  {
   "cell_type": "markdown",
   "metadata": {},
   "source": [
    "---\n",
    "layout: page\n",
    "title: Miniconda Setup\n",
    "permalink: /setup/\n",
    "---\n",
    "\n",
    "# Miniconda Setup Instructions\n",
    "\n",
    "## Step 1: Install Miniconda \n",
    "\n",
    "To install Miniconda, follow these [instructions][instruc] \n",
    "\n",
    "Make sure to download the Python 3.6 version from the [installation page][install]\n",
    "\n",
    "## Step 2: Setup an environment\n",
    "Open up Anaconda prompt and type in or copy the command below"
   ]
  },
  {
   "cell_type": "code",
   "execution_count": null,
   "metadata": {},
   "outputs": [],
   "source": [
    "!conda create -n swc python=3.6 m2-base jupyter m2-git sqlite r-essentials rpy2 m2-make "
   ]
  },
  {
   "cell_type": "markdown",
   "metadata": {},
   "source": [
    "## Step 3: Open the environment you created\n",
    "If you use Windows, type !activate swc below\n",
    "If you use Linux or OS X, type !source activate swc below"
   ]
  },
  {
   "cell_type": "code",
   "execution_count": null,
   "metadata": {},
   "outputs": [],
   "source": [
    "!activate swc"
   ]
  },
  {
   "cell_type": "markdown",
   "metadata": {},
   "source": [
    "## Step 4: Open up Jupyter QtConsole"
   ]
  },
  {
   "cell_type": "code",
   "execution_count": null,
   "metadata": {},
   "outputs": [],
   "source": [
    "!jupyter qtconsole"
   ]
  },
  {
   "cell_type": "markdown",
   "metadata": {},
   "source": [
    "You are now ready for every Software and Data Carpentry lesson!\n",
    "\n",
    "[instruc]: https://conda.io/docs/install/quick.html\n",
    "[install]: https://conda.io/miniconda.html"
   ]
  }
 ],
 "metadata": {},
 "nbformat": 4,
 "nbformat_minor": 2
}
