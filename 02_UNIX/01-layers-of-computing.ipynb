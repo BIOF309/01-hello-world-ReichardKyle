{
 "cells": [
  {
   "cell_type": "markdown",
   "metadata": {},
   "source": [
    "---\n",
    "start: true\n",
    "title: \"The layers of computing\"\n",
    "teaching: 30\n",
    "exercises: 0\n",
    "questions:\n",
    "- \"Where, exactly, is my data? Where should it be?\"\n",
    "- \"Where is the computer analyzing my data? Can I make it go faster?\"\n",
    "- \"How do all of these places relate to each other?\"\n",
    "- \"What is the shell and why do I care?\"\n",
    "- \"What is python? What is IPython? What is Juypter?\"\n",
    "- \"What are the tools we'll be using in the course?\"\n",
    "objectives:\n",
    "- \"Understand how the components in your computing stack relate to one another\"\n",
    "- \"Understand the different ways of interacting with your computer and what the pros and cons are\"\n",
    "- \"Explain when and why command-line interfaces should be used instead of graphical interfaces.\"\n",
    "- \"Explain the advantages of remote computing including cloud and high performance computing.\"\n",
    "- \"Explain how to access the NIMH dedicated computing resources in the most convenient manner.\"\n",
    "- \"Get exposed to IPython and learn it's strengths.\"\n",
    "- \"Learn shortcuts and hotkeys to make command line computing fast and efficient\"\n",
    "keypoints:\n",
    "- \"A shell is a program whose primary purpose is to read commands and run other\n",
    "programs.\"\n",
    "- \"The shell’s main advantages are its high action-to-keystroke ratio, its\n",
    "support for automating repetitive tasks, and that it can be used to access\n",
    "networked machines.\"\n",
    "- \"The shell’s main disadvantages are its primarily textual nature and how\n",
    "cryptic its commands and operation can be.\"\n",
    "- \"We will work on a remote instance of the linux operating system\"\n",
    "- \"Although there are many ways to work remotely, we will use a graphical\n",
    "interface using NoMachine.\"\n",
    "- \"We will use an IPython console to interact with the Python interpretter\"\n",
    "- \"We will learn basic commands for working with the computer file system:\n",
    "`pwd`, `ls`, `mkdir` and `cd`.\"\n",
    "-  \"Understand the difference between alias, system commands, and IPython magics\"\n",
    "- \"Show how `cd` behaves differently because each system call is a subprocess\"\n",
    "---\n",
    "\n",
    "## Getting started\n",
    "\n",
    "* Connect to felix or helix using NoMachine\n",
    "We'll be conducting this course using a remote desktop utility called\n",
    "[NoMachine](http://www.nomachine.com). You should have already met with the DSST\n",
    "staff to configure and test it. Open the NoMachine App and connect to\n",
    "felix.nimh.nih.gov if you are an NIMH employee or have a temporary course account. If you work for\n",
    "another institute you can use helix.nih.gov.\n",
    "* Open Terminal from the Application-> System Tools menu\n",
    "* We've setup a short script to get you started quickly in the NIH HPC (felix or helix). To run it, type:"
   ]
  },
  {
   "cell_type": "code",
   "execution_count": null,
   "metadata": {},
   "outputs": [],
   "source": [
    "source /data/DSST/scripts/repro_env_setup.sh"
   ]
  },
  {
   "cell_type": "markdown",
   "metadata": {},
   "source": [
    "{: .bash}\n",
    "\n",
    "* Start up an IPython window"
   ]
  },
  {
   "cell_type": "code",
   "execution_count": null,
   "metadata": {},
   "outputs": [],
   "source": [
    "jupyter qtconsole &"
   ]
  },
  {
   "cell_type": "markdown",
   "metadata": {},
   "source": [
    "{: .bash}\n",
    "\n",
    "Your screen should now look something like this:\n",
    "\n",
    "![image_of_shell](../fig/HPC_desktop.png)\n",
    "\n",
    "Before we do anything we should all type the following command. For now we\n",
    "don't need to know what it does but it will help to avoid confusion as we learn\n",
    "about our command line interface:"
   ]
  },
  {
   "cell_type": "code",
   "execution_count": null,
   "metadata": {},
   "outputs": [],
   "source": [
    "%automagic"
   ]
  },
  {
   "cell_type": "markdown",
   "metadata": {},
   "source": [
    "{: .python}"
   ]
  },
  {
   "cell_type": "code",
   "execution_count": null,
   "metadata": {},
   "outputs": [],
   "source": [
    "Automagic is OFF, % prefix IS needed for line magics."
   ]
  },
  {
   "cell_type": "markdown",
   "metadata": {},
   "source": [
    "{: .output}\n",
    "\n",
    "\n",
    "## Know who (or what) you're talking to\n",
    "\n",
    "It's easy and common to click on an icon, open and window and typing, clicking,\n",
    "and analyzing in that window without much thought about how or where those\n",
    "commands are being executed and where the data is being stored. It's worth the\n",
    "effort to take some time and understand exactly what your computing (stack)[https://en.wikipedia.org/wiki/Solution_stack]\n",
    "looks like and exactly where everything is happening. Understanding this stack\n",
    "can help you make your analysis more efficient and secure.\n",
    "\n",
    "## Where am I?\n",
    "\n",
    "The desktop you're looking at inside the NoMachine window is from a computer\n",
    "that lives over in building 12B at NIH's high performance computing (HPC)\n",
    "center. This computer (helix or felix) is separate from but closely affiliated\n",
    "with the large cluster of computers known as the (Biowulf)[https://hpc.nih.gov/systems/].\n",
    "\n",
    "NoMachine is a remote desktop program. It allows your to interact with the\n",
    "remote computer (helix/felix) almost as if you were sitting right in front of\n",
    "it. ((VNC)[https://en.wikipedia.org/wiki/Virtual_Network_Computing] is another common remote desktop program).\n",
    "\n",
    "The window on the left of your NX desktop is running an IPython shell. On the\n",
    "right side, there is a window running a (Bash) shell. A (shell)[https://en.wikipedia.org/wiki/Shell_(computing)] refer to a user interface. It is designed to allow the user, you, to interact with the computer in an efficient and convenient way. It's named a shell because it stands between the user and the \"guts\" of the computer system, which is called the kernel.\n",
    "\n",
    "<img src=\"../fig/layers_of_computing.png\" alt=\"The shell kernel metaphor\" style=\"width: 600px;\"/>\n",
    "\n",
    "\n",
    "> ## Bash and tcsh shell vs. IPython \n",
    "> \n",
    ">_This is the first of many expandable boxes you'll see in these lesson. They provide a bit more \n",
    "> info that are not essential to the flow of the course. Only read them if you're interested._\n",
    "> \n",
    "> We'll be working almost exclusively in the IPython shell in this course.\n",
    "> IPython provides an easy way to explore and interact with your data that\n",
    "> leverages the power of the Python programming language. The Bash shell is an\n",
    "> extremely versatile tool designed to allow you to control and interact with\n",
    "> files and your computer more generally. You've likely had exposure to Bash (or\n",
    "> it's close cousin, tcsh) if you've used analysis packages like AFNI, FSL, and\n",
    "> FreeSurfer. The Bash shell is a [great thing to\n",
    "> learn](https://swcarpentry.github.io/shell-novice/), but we want to focus on\n",
    "> teaching you reproducible computing concepts without getting bogged down in the\n",
    "> syntax of too many different languages.\n",
    "{: .solution}\n",
    "\n",
    "\n",
    "> ## Challenge: Draw your stack\n",
    "> \n",
    "> _Expandable orange boxes like this one contain challenges for you to try._\n",
    "> \n",
    "> Draw a diagram to illustrate how the programs and computers listed below relate to one another.\n",
    "> \n",
    "> * Your laptop\n",
    "> * Helix & Felix\n",
    "> * The Biowulf cluster\n",
    "> * NoMachine Remote Desktop\n",
    "> * IPython Shell\n",
    "> * Angry Birds on your phone\n",
    "> \n",
    "> Now get with your partner and compare your drawings. Discuss the difference and edit as needed.\n",
    "{: .challenge}\n",
    "\n",
    "\n",
    "## The Jupyter qtconsole\n",
    "\n",
    "> ## A note on the IPython prompt\n",
    ">\n",
    "> ~~~\n",
    ">  In [1]\n",
    "> ~~~\n",
    "> {: .source}\n",
    "> The IPython prompt, as depicted above, sits before our blinking cursor. It\n",
    "> consists of the word \"In\" followed by a number. It informs us that we are\n",
    "> currently entering input. In this case the first input of the IPython kernel\n",
    "> session. Every time we execute a command this number will increment by one.\n",
    " {: .callout}\n",
    "\n",
    "The [Jupyter qtconsole](https://jupyter.readthedocs.io/en/latest/index.html) is\n",
    "a developing environment that is optimized for interactive computing typical of\n",
    "scientific analyses. It provides lots of convenient commands and shortcuts for\n",
    "this. Different languages can be used with this interface. In our case we will be\n",
    "using IPython. It provides us with a convenient interface to the system shell\n",
    "and the Python interpreter. We will start by typing in the IPython command:"
   ]
  },
  {
   "cell_type": "code",
   "execution_count": null,
   "metadata": {},
   "outputs": [],
   "source": [
    "%pwd"
   ]
  },
  {
   "cell_type": "markdown",
   "metadata": {},
   "source": [
    "{: .source}"
   ]
  },
  {
   "cell_type": "code",
   "execution_count": null,
   "metadata": {},
   "outputs": [],
   "source": [
    "/Users/this_user"
   ]
  },
  {
   "cell_type": "markdown",
   "metadata": {},
   "source": [
    "{: .output}\n",
    "\n",
    "This returns the present working directory, the file-system-context\n",
    "for the commands that we execute. We can refer to these files by simply typing\n",
    "their names. We can list these files by using the next command:"
   ]
  },
  {
   "cell_type": "code",
   "execution_count": null,
   "metadata": {},
   "outputs": [],
   "source": [
    "%ls"
   ]
  },
  {
   "cell_type": "markdown",
   "metadata": {},
   "source": [
    "{: .source}\n",
    "\n",
    "The `%ls` command returns all the files in the present working directory. When\n",
    "we wish to perform actions on these files we can refer to them directly by\n",
    "their names and the shell will understand which files we are referring to.\n",
    "Later we will talk about how to add new files to the current directory but for\n",
    "now we will use the `%mkdir` command to add a directory into our present\n",
    "working directory:"
   ]
  },
  {
   "cell_type": "code",
   "execution_count": null,
   "metadata": {},
   "outputs": [],
   "source": [
    "%mkdir repro_course"
   ]
  },
  {
   "cell_type": "markdown",
   "metadata": {},
   "source": [
    "{: .source}\n",
    "\n",
    "## IPython magics and system commands\n",
    "\n",
    "The above commands can be entered into the IPython in slightly different ways.\n",
    "Instead of using the \"%\" sign we can instead use the \"!\" sign and we will still\n",
    "get the same results (although we will not be able to make the same directory\n",
    "again)."
   ]
  },
  {
   "cell_type": "code",
   "execution_count": null,
   "metadata": {},
   "outputs": [],
   "source": [
    "!pwd\n",
    "!ls\n",
    "!mkdir repro_course"
   ]
  },
  {
   "cell_type": "markdown",
   "metadata": {},
   "source": [
    "{: .source}"
   ]
  },
  {
   "cell_type": "code",
   "execution_count": null,
   "metadata": {},
   "outputs": [],
   "source": [
    "/Users/this_user\n",
    "... A list of files in the current directory...\n",
    "mkdir: cannot create directory `repro_course': File exists"
   ]
  },
  {
   "cell_type": "markdown",
   "metadata": {},
   "source": [
    "{: .output}\n",
    "\n",
    "When we use the \"%\" sign it denotes that the command is an \"IPython magic\". These\n",
    "are special commands available in IPython that make doing some common tasks\n",
    "easier on the command line. The \"!\" instead evalutate the command with the system\n",
    "shell. On a Linux or Mac OSX operating system this will likely be the Bash\n",
    "shell. All of these commands exist in Bash; however, on a Windows operating\n",
    "system the pwd system command does not exist. You can see we have to be careful\n",
    "about using system commands. Some will be operating system dependent. Since the\n",
    "IPython magics will work regardless of the operating system used, we shall\n",
    "instead use those when we can.\n",
    "\n",
    "## System commands start a new sub-process\n",
    "Apart from the different system commands across platforms there is another\n",
    "reason we might have a preference for IPython magics. Each system command starts\n",
    "up a sub-process, executes the commands, and then closes. The effect of this can\n",
    "be seen very easily when we use the \"!cd\" system command to change directories."
   ]
  },
  {
   "cell_type": "code",
   "execution_count": null,
   "metadata": {},
   "outputs": [],
   "source": [
    "%pwd\n",
    "!cd repro_course\n",
    "%pwd"
   ]
  },
  {
   "cell_type": "markdown",
   "metadata": {},
   "source": [
    "{: .source}"
   ]
  },
  {
   "cell_type": "code",
   "execution_count": null,
   "metadata": {},
   "outputs": [],
   "source": [
    "/Users/this_user\n",
    "/Users/this_user"
   ]
  },
  {
   "cell_type": "markdown",
   "metadata": {},
   "source": [
    "{: .output}\n",
    "\n",
    "This would not be the behavior we would wish from a command that changes our\n",
    "present working directory. This occurs because the changes made to the\n",
    "environment in the sub-process are not propagated back to the IPython shell. If\n",
    "we use the IPython magic `%cd` we get the behavior we want."
   ]
  },
  {
   "cell_type": "code",
   "execution_count": null,
   "metadata": {},
   "outputs": [],
   "source": [
    "%pwd\n",
    "%cd repro_course\n",
    "%pwd"
   ]
  },
  {
   "cell_type": "markdown",
   "metadata": {},
   "source": [
    "{: .source}"
   ]
  },
  {
   "cell_type": "code",
   "execution_count": null,
   "metadata": {},
   "outputs": [],
   "source": [
    "/Users/this_user\n",
    "/Users/this_user/repro_course\n",
    "/Users/this_user/repro_course"
   ]
  },
  {
   "cell_type": "markdown",
   "metadata": {},
   "source": [
    "{: .output}\n",
    "\n",
    "*  As we work through the course we will continue to learn some convenient\n",
    "shortcuts available to use in the IPython shell; however, most of the time we\n",
    "will be writing commands that are in the Python language.\n",
    "\n",
    "> ##  Understanding the file folder metaphor\n",
    "> \n",
    "> Working on the command line requires a fluid understanding of how a file system is organized. \n",
    "> Most file systems use the [file folder metaphor](https://en.wikipedia.org/wiki/Directory_(computing)#Folder_metaphor) to provide a system that would be familar to most computer users. \n",
    "> This is also sometimes referred to an (inverted) directory \"tree\". When someone asks you \n",
    "> to \"change up one directory\" they are referencing this metaphor.\n",
    "> \n",
    "> If you'd like a bit more practice understanding and navigating a directory tree, check out [this lesson](http://swcarpentry.github.io/shell-novice/02-filedir/) at Software Carpentry. There are also some exercises available at [Code Academy](https://www.codecademy.com/learn/learn-the-command-line).\n",
    "> \n",
    "> \n",
    "{: .solution}\n",
    "\n",
    "## Convenient commands to remember\n",
    "\n",
    "*   Use tab completion when possible. The computer is more precise than we are.\n",
    "*   We can cycle through previous commands using up and down arrows.\n",
    "*   We can cycle through previous commands starting with the current text using\n",
    "Ctl + n/p.\n",
    "*   Enter,  Ctl + Enter / Shift + Enter allow us to run commands in different\n",
    "ways."
   ]
  }
 ],
 "metadata": {},
 "nbformat": 4,
 "nbformat_minor": 2
}
