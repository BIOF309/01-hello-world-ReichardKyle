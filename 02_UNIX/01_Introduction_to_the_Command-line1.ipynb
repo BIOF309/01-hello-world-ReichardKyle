{
  "cells": [
    {
      "cell_type": "markdown",
      "source": [
        "# Introduction to the Command-line Interface (CLI)\n",
        "\n## aka Introduction to Linux Shell"
      ],
      "metadata": {}
    },
    {
      "cell_type": "markdown",
      "source": [
        "---"
      ],
      "metadata": {}
    },
    {
      "cell_type": "markdown",
      "source": [
        "### Getting into the Terminal or Command Prompt\n",
        "\n",
        "For Mac users:\n",
        "- Type \"Command + Spacebar\" or click on the Spotlight magnifying glass in the upper right-hand corner. \n",
        "- Type \"Terminal\"\n",
        "- Hit \"Return\""
      ],
      "metadata": {}
    },
    {
      "cell_type": "markdown",
      "source": [
        "You should see something like this:\n",
        "![Mac Terminal](https://www.imore.com/sites/imore.com/files/styles/larger/public/field/image/2016/03/13-add-spacers-terminal.jpg?itok=tAISaSDn)"
      ],
      "metadata": {}
    },
    {
      "cell_type": "markdown",
      "source": [
        "For Windows Users, there are many options.\n",
        "I recommend either [Git Bash](https://git-scm.com/download/win) or, if you are\n",
        "feeling adventurous, [Jupyter Lab](https://github.com/jupyterlab/jupyterlab).\n"
      ],
      "metadata": {}
    },
    {
      "cell_type": "markdown",
      "source": [
        "## Finding out where you are:\n",
        "\n",
        "Displays your location in the file system\n",
        "\n",
        "    pwd     # pwd (Linux)\n",
        "\tchdir   # chdir (Windows)"
      ],
      "metadata": {}
    },
    {
      "cell_type": "code",
      "source": [
        "# To run these commands in the Jupyter Notebook, preceed with a exclamation mark (!)\n",
        "\n!pwd"
      ],
      "outputs": [
        {
          "output_type": "stream",
          "name": "stdout",
          "text": [
            "/Users/marskar/GitHub/BIOF309_Fall2017/02_UNIX\r\n"
          ]
        }
      ],
      "execution_count": 1,
      "metadata": {}
    },
    {
      "cell_type": "markdown",
      "source": [
        "Creates a directory\n",
        "\n",
        "    mkdir   # mkdir directory\n",
        "\tmkdir   # mkdir directory"
      ],
      "metadata": {}
    },
    {
      "cell_type": "code",
      "source": [
        "!mkdir test"
      ],
      "outputs": [],
      "execution_count": 3,
      "metadata": {
        "collapsed": true
      }
    },
    {
      "cell_type": "code",
      "source": [
        "!ls"
      ],
      "outputs": [
        {
          "output_type": "stream",
          "name": "stdout",
          "text": [
            "Week03 - 01 - Introduction to the Command-line.ipynb\r\n",
            "Week03 - 02 - Week 2 Homework Review.ipynb\r\n",
            "Week03 - 03 - Working with Files.ipynb\r\n",
            "Week03 - 04 - Homework.ipynb\r\n",
            "\u001b[34mtest\u001b[m\u001b[m\r\n"
          ]
        }
      ],
      "execution_count": 4,
      "metadata": {
        "scrolled": true
      }
    },
    {
      "cell_type": "markdown",
      "source": [
        "Changes directories with a specified path (absolute path)\n",
        "\n",
        "    cd pathname    # cd /directory/directory\n",
        "\tcd pathname    # cd C:/directory/directory"
      ],
      "metadata": {}
    },
    {
      "cell_type": "code",
      "source": [
        "!cd test"
      ],
      "outputs": [],
      "execution_count": 5,
      "metadata": {
        "collapsed": true
      }
    },
    {
      "cell_type": "markdown",
      "source": [
        "Changes directories with a relative path\n",
        "\n",
        "    cd ..   # cd ..\n",
        "\tcd..    # cd..\n",
        "    "
      ],
      "metadata": {}
    },
    {
      "cell_type": "code",
      "source": [
        "!pwd"
      ],
      "outputs": [
        {
          "output_type": "stream",
          "name": "stdout",
          "text": [
            "/Users/squiresrb/Documents/version_control/BIOF309-2016-Fall/Week_03\r\n"
          ]
        }
      ],
      "execution_count": 7,
      "metadata": {}
    },
    {
      "cell_type": "code",
      "source": [],
      "outputs": [],
      "execution_count": null,
      "metadata": {
        "collapsed": true
      }
    },
    {
      "cell_type": "markdown",
      "source": [
        "## Absolute Paths versus Relative Paths\n",
        "\n",
        "Absolute paths start at the root directory in Linux and at the Hard drive Letter in Windows:\n",
        "\n",
        "    /Users/username/Document/BIOF309/file.txt\n",
        "\n",
        "    C:/Users/username/Documents/BIOF309/file.txt\n",
        "    \n",
        "Relative paths are \"relative\" to the programs currentl location.\n",
        "\n",
        "A file in the same directory can be prefaced with \"./\" in linux but Jupyter Notebook does not require it\n",
        "\n    .\\file.txt    # Current directory"
      ],
      "metadata": {}
    },
    {
      "cell_type": "markdown",
      "source": [
        "## Working with files"
      ],
      "metadata": {}
    },
    {
      "cell_type": "markdown",
      "source": [
        "Lists files\n",
        "\n",
        "    ls     # ls\n",
        "    dir    # dir"
      ],
      "metadata": {}
    },
    {
      "cell_type": "markdown",
      "source": [
        "Create a file\n",
        "\n",
        "    nano   # nano hello.txt\n",
        "    dir >     # dir > hello.txt"
      ],
      "metadata": {}
    },
    {
      "cell_type": "markdown",
      "source": [
        "Copies files\n",
        "\n",
        "    cp     # cp thisfile.txt /home/thisdirectory\n",
        "    copy   # copy thisfile.txt C:/Users/thisdirectory"
      ],
      "metadata": {}
    },
    {
      "cell_type": "code",
      "source": [],
      "outputs": [],
      "execution_count": null,
      "metadata": {
        "collapsed": true
      }
    },
    {
      "cell_type": "markdown",
      "source": [
        "Moves files\n",
        "\n",
        "    mv    # mv thisfile.txt /home/thisdirectory\n",
        "\tmove  # move thisfile.txt C:/Users/thisdirectory"
      ],
      "metadata": {}
    },
    {
      "cell_type": "code",
      "source": [],
      "outputs": [],
      "execution_count": null,
      "metadata": {
        "collapsed": true
      }
    },
    {
      "cell_type": "markdown",
      "source": [
        "Deletes files\n",
        "\n",
        "    rm    # rm thisfile.txt\n",
        "\tdel   # rm thisfile.txt"
      ],
      "metadata": {}
    },
    {
      "cell_type": "code",
      "source": [],
      "outputs": [],
      "execution_count": null,
      "metadata": {
        "collapsed": true
      }
    },
    {
      "cell_type": "markdown",
      "source": [
        "Compares the contents of files\n",
        "\n",
        "    diff  # diff file1 file2\n",
        "\tfc    # diff file1 file2"
      ],
      "metadata": {}
    },
    {
      "cell_type": "code",
      "source": [],
      "outputs": [],
      "execution_count": null,
      "metadata": {
        "collapsed": true
      }
    },
    {
      "cell_type": "markdown",
      "source": [
        "Finds a string of text in a file\n",
        "\n",
        "    grep    # grep word or phrase thisfile.txt\n",
        "\tfind    # grep word or phrase thisfile.txt"
      ],
      "metadata": {}
    },
    {
      "cell_type": "code",
      "source": [],
      "outputs": [],
      "execution_count": null,
      "metadata": {
        "collapsed": true
      }
    },
    {
      "cell_type": "markdown",
      "source": [
        "Views contents of a file\n",
        "\n",
        "    less    # less thisfile.txt\n",
        "\tmore    # less thisfile.txt\n",
        "    \n",
        "To get out type \"q\""
      ],
      "metadata": {}
    },
    {
      "cell_type": "code",
      "source": [],
      "outputs": [],
      "execution_count": null,
      "metadata": {
        "collapsed": true
      }
    },
    {
      "cell_type": "markdown",
      "source": [
        "Renames a file\n",
        "\n",
        "    mv     # mv thisfile.txt thatfile.txt\n",
        "\tren    # ren thisfile.txt thatfile.txt"
      ],
      "metadata": {}
    },
    {
      "cell_type": "code",
      "source": [],
      "outputs": [],
      "execution_count": null,
      "metadata": {
        "collapsed": true
      }
    }
  ],
  "metadata": {
    "anaconda-cloud": {},
    "kernelspec": {
      "name": "python3",
      "language": "python",
      "display_name": "Python 3"
    },
    "language_info": {
      "nbconvert_exporter": "python",
      "mimetype": "text/x-python",
      "version": "3.5.3",
      "pygments_lexer": "ipython3",
      "file_extension": ".py",
      "codemirror_mode": {
        "version": 3,
        "name": "ipython"
      },
      "name": "python"
    },
    "kernel_info": {
      "name": "python3"
    },
    "nteract": {
      "version": "0.2.0"
    }
  },
  "nbformat": 4,
  "nbformat_minor": 1
}